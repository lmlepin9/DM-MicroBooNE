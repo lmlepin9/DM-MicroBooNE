{
 "cells": [
  {
   "cell_type": "code",
   "execution_count": 1,
   "metadata": {
    "collapsed": false
   },
   "outputs": [
    {
     "data": {
      "application/javascript": [
       "\n",
       "require(['notebook'],\n",
       "  function() {\n",
       "    IPython.CodeCell.config_defaults.highlight_modes['magic_text/x-c++src'] = {'reg':[/^%%cpp/]};\n",
       "    console.log(\"JupyROOT - %%cpp magic configured\");\n",
       "  }\n",
       ");\n"
      ]
     },
     "metadata": {},
     "output_type": "display_data"
    },
    {
     "name": "stdout",
     "output_type": "stream",
     "text": [
      "Welcome to JupyROOT 6.08/06\n"
     ]
    }
   ],
   "source": [
    "import os, sys, ROOT\n",
    "import uproot as np                                                    \n",
    "import numpy as np\n",
    "import pandas as pd\n",
    "import matplotlib.pyplot as plt\n",
    "%matplotlib inline"
   ]
  },
  {
   "cell_type": "code",
   "execution_count": 2,
   "metadata": {
    "collapsed": true
   },
   "outputs": [],
   "source": [
    "import torch\n",
    "import torch.nn as nn\n",
    "import torch.optim as optim\n",
    "import torch.utils.data.dataloader as dataloader\n",
    "\n",
    "from torch.autograd import Variable\n",
    "from torch.utils.data import DataLoader, TensorDataset\n",
    "\n",
    "from mpid_data import mpid_data_binary\n",
    "from mpid_net import mpid_net_binary, mpid_func"
   ]
  },
  {
   "cell_type": "code",
   "execution_count": 3,
   "metadata": {
    "collapsed": false
   },
   "outputs": [
    {
     "data": {
      "text/plain": [
       "False"
      ]
     },
     "execution_count": 3,
     "metadata": {},
     "output_type": "execute_result"
    }
   ],
   "source": [
    "torch.cuda.is_available()"
   ]
  },
  {
   "cell_type": "code",
   "execution_count": 4,
   "metadata": {
    "collapsed": false
   },
   "outputs": [
    {
     "name": "stdout",
     "output_type": "stream",
     "text": [
      "self.adc_lo=float(10)\n",
      "self.adc_hi=float(500)\n",
      "self.augment=False\n",
      "self.batch_size_train=int(1)\n",
      "self.batch_size_test=int(1)\n",
      "self.drop_out=0.0\n",
      "self.EPOCHS=50\n",
      "self.GPUID=str(\"1\")\n",
      "self.learning_rate=float(1e-3)\n",
      "self.name=str(\"BN_False_LR-3_AG_True\")\n",
      "self.num_class=int(2)\n",
      "self.plane=2\n",
      "self.run_test=True\n",
      "self.test_events_nums=9\n",
      "self.test_every_step=10\n",
      "self.weight_file_mpid_0=str(\"/scratch/ruian/training_data/weights/pid/plane0/pid-245199\")\n",
      "self.weight_file_mpid_1=str(\"/scratch/ruian/training_data/weights/pid/plane1/pid-355199\")\n",
      "self.weight_file_mpid_2=str(\"/scratch/ruian/training_data/weights/pid/plane2/pid-453799\")\n",
      "self.xdim=int(512)\n",
      "self.ydim=int(512)\n"
     ]
    }
   ],
   "source": [
    "from lib.config import config_loader\n",
    "MPID_PATH = os.path.dirname(mpid_data_binary.__file__)+\"/../cfg\"\n",
    "CFG = os.path.join(MPID_PATH,\"inference_config_binary.cfg\")\n",
    "\n",
    "# CFG = os.path.join(\"../../cfg\",\"inference_config.cfg\")\n",
    "cfg  = config_loader(CFG)\n",
    "os.environ[\"CUDA_DEVICE_ORDER\"]=\"PCI_BUS_ID\"\n",
    "os.environ[\"CUDA_VISIBLE_DEVICES\"]=cfg.GPUID"
   ]
  },
  {
   "cell_type": "code",
   "execution_count": 5,
   "metadata": {
    "collapsed": true
   },
   "outputs": [],
   "source": [
    "weight_file=\"mpid_model_20200914-10_30_PM_epoch_3_batch_id_31_labels_2_title_0.001_AG_GN_final_2_classes_step_3784.pwf\"\n",
    "#weight_file=\"mpid_model_20200914-08_45_PM_epoch_0_batch_id_641_labels_2_title_0.001_AG_GN_final_2_classes_step_641.pwf\"\n",
    "#weight_file='mpid_model_20200914-08_42_PM_epoch_0_batch_id_501_labels_2_title_0.001_AG_GN_final_2_classes_step_501.pwf'"
   ]
  },
  {
   "cell_type": "code",
   "execution_count": 6,
   "metadata": {
    "collapsed": false,
    "scrolled": true
   },
   "outputs": [
    {
     "data": {
      "text/plain": [
       "MPID(\n",
       "  (features): Sequential(\n",
       "    (0): Conv2d(1, 64, kernel_size=(3, 3), stride=(2, 2), padding=(1, 1))\n",
       "    (1): ReLU()\n",
       "    (2): GroupNorm(64, 64, eps=1e-05, affine=True)\n",
       "    (3): Conv2d(64, 64, kernel_size=(3, 3), stride=(1, 1))\n",
       "    (4): ReLU()\n",
       "    (5): GroupNorm(64, 64, eps=1e-05, affine=True)\n",
       "    (6): AvgPool2d(kernel_size=2, stride=2, padding=1)\n",
       "    (7): Conv2d(64, 96, kernel_size=(3, 3), stride=(1, 1), padding=(1, 1))\n",
       "    (8): ReLU()\n",
       "    (9): GroupNorm(96, 96, eps=1e-05, affine=True)\n",
       "    (10): Conv2d(96, 96, kernel_size=(3, 3), stride=(1, 1))\n",
       "    (11): ReLU()\n",
       "    (12): GroupNorm(96, 96, eps=1e-05, affine=True)\n",
       "    (13): AvgPool2d(kernel_size=2, stride=2, padding=1)\n",
       "    (14): Conv2d(96, 128, kernel_size=(3, 3), stride=(1, 1), padding=(1, 1))\n",
       "    (15): ReLU()\n",
       "    (16): GroupNorm(128, 128, eps=1e-05, affine=True)\n",
       "    (17): Conv2d(128, 128, kernel_size=(3, 3), stride=(1, 1))\n",
       "    (18): ReLU()\n",
       "    (19): GroupNorm(128, 128, eps=1e-05, affine=True)\n",
       "    (20): AvgPool2d(kernel_size=2, stride=2, padding=1)\n",
       "    (21): Conv2d(128, 160, kernel_size=(3, 3), stride=(1, 1), padding=(1, 1))\n",
       "    (22): ReLU()\n",
       "    (23): GroupNorm(160, 160, eps=1e-05, affine=True)\n",
       "    (24): Conv2d(160, 160, kernel_size=(3, 3), stride=(1, 1))\n",
       "    (25): ReLU()\n",
       "    (26): GroupNorm(160, 160, eps=1e-05, affine=True)\n",
       "    (27): AvgPool2d(kernel_size=2, stride=2, padding=1)\n",
       "    (28): Conv2d(160, 192, kernel_size=(3, 3), stride=(1, 1), padding=(1, 1))\n",
       "    (29): ReLU()\n",
       "    (30): GroupNorm(192, 192, eps=1e-05, affine=True)\n",
       "    (31): Conv2d(192, 192, kernel_size=(3, 3), stride=(1, 1))\n",
       "    (32): GroupNorm(192, 192, eps=1e-05, affine=True)\n",
       "    (33): AvgPool2d(kernel_size=2, stride=2, padding=1)\n",
       "  )\n",
       "  (dropout): Dropout(p=0.5)\n",
       "  (classifier): Sequential(\n",
       "    (0): Dropout(p=0.5)\n",
       "    (1): Linear(in_features=12288, out_features=1536, bias=True)\n",
       "    (2): Dropout(p=0.5)\n",
       "    (3): Linear(in_features=1536, out_features=192, bias=True)\n",
       "    (4): Linear(in_features=192, out_features=2, bias=True)\n",
       "  )\n",
       ")"
      ]
     },
     "execution_count": 6,
     "metadata": {},
     "output_type": "execute_result"
    }
   ],
   "source": [
    "train_device = 'cuda' if torch.cuda.is_available() else 'cpu'\n",
    "\n",
    "mpid = mpid_net_binary.MPID()\n",
    "#mpid.cuda()\n",
    "\n",
    "mpid.load_state_dict(torch.load(weight_file, map_location=train_device))\n",
    "\n",
    "mpid.eval()"
   ]
  },
  {
   "cell_type": "code",
   "execution_count": 7,
   "metadata": {
    "collapsed": true
   },
   "outputs": [],
   "source": [
    "test_file = \"../cross_validation/overlay_cropped.root\"\n",
    "\n",
    "test_data = mpid_data_binary.MPID_Dataset(test_file,\"image2d_image2d_binary_tree;1\", train_device)\n",
    "test_loader = DataLoader(dataset=test_data, batch_size= 1 , shuffle=True)"
   ]
  },
  {
   "cell_type": "code",
   "execution_count": 28,
   "metadata": {
    "collapsed": false
   },
   "outputs": [
    {
     "data": {
      "text/plain": [
       "<matplotlib.image.AxesImage at 0x7f97ac4c5a10>"
      ]
     },
     "execution_count": 28,
     "metadata": {},
     "output_type": "execute_result"
    },
    {
     "data": {
      "image/png": "[encoded data removed]",
      "text/plain": [
       "<Figure size 504x432 with 1 Axes>"
      ]
     },
     "metadata": {},
     "output_type": "display_data"
    }
   ],
   "source": [
    "entry_test = 2\n",
    "input_image = test_data[entry_test][0].view(-1,1,512,512)\n",
    "fig, ax= plt.subplots(1,1,figsize=(7,6))\n",
    "input_image[0][0][input_image[0][0] > 500] = 500\n",
    "input_image[0][0][input_image[0][0] < 10 ] = 0\n",
    "score = nn.Sigmoid()(mpid(input_image)).cpu().detach().numpy()[0]   \n",
    "ax.text(0,20, \"Signal, %.3f\"%score[0],color=\"white\",fontsize=15)\n",
    "ax.text(0,40, \"Background, %.3f\"%score[1],color=\"white\",fontsize=15)\n",
    "ax.text(0,120, \"Entry, %i\"%entry_test,color=\"white\",fontsize=15)\n",
    "\n",
    "\n",
    "ax.imshow(input_image.cpu()[0][0], cmap='jet',origin='lower')"
   ]
  },
  {
   "cell_type": "code",
   "execution_count": 9,
   "metadata": {
    "collapsed": false
   },
   "outputs": [
    {
     "data": {
      "text/plain": [
       "8"
      ]
     },
     "execution_count": 9,
     "metadata": {},
     "output_type": "execute_result"
    }
   ],
   "source": [
    "len(test_data)"
   ]
  },
  {
   "cell_type": "code",
   "execution_count": 10,
   "metadata": {
    "collapsed": true
   },
   "outputs": [],
   "source": [
    "score_signal_dm = np.zeros(len(test_data))\n",
    "score_background_dm = np.zeros(len(test_data))\n"
   ]
  },
  {
   "cell_type": "code",
   "execution_count": 11,
   "metadata": {
    "collapsed": false
   },
   "outputs": [],
   "source": [
    "for ENTRY in range(len(test_data)):\n",
    "    input_image = test_data[ENTRY][0].view(-1,1,512,512)\n",
    "\n",
    "    input_image[0][0][input_image[0][0] > 500] = 500\n",
    "    input_image[0][0][input_image[0][0] < 10 ] = 0\n",
    "    score = nn.Sigmoid()(mpid(input_image)).cpu().detach().numpy()[0]\n",
    "    \n",
    "    score_signal_dm[ENTRY] = score[0]\n",
    "    score_background_dm[ENTRY] = score[1]\n"
   ]
  },
  {
   "cell_type": "code",
   "execution_count": 12,
   "metadata": {
    "collapsed": false
   },
   "outputs": [
    {
     "data": {
      "image/png": "[encoded data removed]",
      "text/plain": [
       "<Figure size 576x432 with 1 Axes>"
      ]
     },
     "metadata": {},
     "output_type": "display_data"
    }
   ],
   "source": [
    "fig, ax = plt.subplots(1,1,figsize = (8,6))\n",
    "ax.set_xlabel(\"Signal score\")\n",
    "ax.grid()\n",
    "plt.hist(score_signal_dm, bins = 10, alpha=0.9, label='DM events',histtype='bar')\n",
    "plt.legend(loc='upper right')\n",
    "plt.show()"
   ]
  },
  {
   "cell_type": "code",
   "execution_count": null,
   "metadata": {
    "collapsed": true
   },
   "outputs": [],
   "source": []
  }
 ],
 "metadata": {
  "kernelspec": {
   "display_name": "Python 2",
   "language": "python",
   "name": "python2"
  },
  "language_info": {
   "codemirror_mode": {
    "name": "ipython",
    "version": 2
   },
   "file_extension": ".py",
   "mimetype": "text/x-python",
   "name": "python",
   "nbconvert_exporter": "python",
   "pygments_lexer": "ipython2",
   "version": "2.7.12"
  }
 },
 "nbformat": 4,
 "nbformat_minor": 2
}
