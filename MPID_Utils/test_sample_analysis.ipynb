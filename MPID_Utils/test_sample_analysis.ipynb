{
 "cells": [
  {
   "cell_type": "code",
   "execution_count": 1,
   "metadata": {},
   "outputs": [
    {
     "data": {
      "application/javascript": [
       "\n",
       "require(['notebook'],\n",
       "  function() {\n",
       "    IPython.CodeCell.config_defaults.highlight_modes['magic_text/x-c++src'] = {'reg':[/^%%cpp/]};\n",
       "    console.log(\"JupyROOT - %%cpp magic configured\");\n",
       "  }\n",
       ");\n"
      ]
     },
     "metadata": {},
     "output_type": "display_data"
    },
    {
     "name": "stdout",
     "output_type": "stream",
     "text": [
      "Welcome to JupyROOT 6.08/06\n"
     ]
    }
   ],
   "source": [
    "import os, sys, ROOT\n",
    "import uproot as np                                                    \n",
    "import numpy as np\n",
    "import pandas as pd\n",
    "import matplotlib.pyplot as plt\n",
    "%matplotlib inline"
   ]
  },
  {
   "cell_type": "code",
   "execution_count": 2,
   "metadata": {
    "collapsed": true
   },
   "outputs": [],
   "source": [
    "import torch\n",
    "import torch.nn as nn\n",
    "import torch.optim as optim\n",
    "import torch.utils.data.dataloader as dataloader\n",
    "\n",
    "from torch.autograd import Variable\n",
    "from torch.utils.data import DataLoader, TensorDataset\n",
    "\n",
    "from mpid_data import mpid_data_binary\n",
    "from mpid_net import mpid_net_binary, mpid_func"
   ]
  },
  {
   "cell_type": "code",
   "execution_count": 3,
   "metadata": {},
   "outputs": [
    {
     "data": {
      "text/plain": [
       "True"
      ]
     },
     "execution_count": 3,
     "metadata": {},
     "output_type": "execute_result"
    }
   ],
   "source": [
    "torch.cuda.is_available()"
   ]
  },
  {
   "cell_type": "code",
   "execution_count": 4,
   "metadata": {},
   "outputs": [
    {
     "name": "stdout",
     "output_type": "stream",
     "text": [
      "self.adc_lo=float(10)\n",
      "self.adc_hi=float(500)\n",
      "self.augment=False\n",
      "self.batch_size_train=int(1)\n",
      "self.batch_size_test=int(1)\n",
      "self.drop_out=0.0\n",
      "self.EPOCHS=50\n",
      "self.GPUID=str(\"1\")\n",
      "self.learning_rate=float(1e-3)\n",
      "self.name=str(\"BN_False_LR-3_AG_True\")\n",
      "self.num_class=int(2)\n",
      "self.plane=2\n",
      "self.run_test=True\n",
      "self.test_events_nums=9\n",
      "self.test_every_step=10\n",
      "self.weight_file_mpid_0=str(\"/scratch/ruian/training_data/weights/pid/plane0/pid-245199\")\n",
      "self.weight_file_mpid_1=str(\"/scratch/ruian/training_data/weights/pid/plane1/pid-355199\")\n",
      "self.weight_file_mpid_2=str(\"/scratch/ruian/training_data/weights/pid/plane2/pid-453799\")\n",
      "self.xdim=int(512)\n",
      "self.ydim=int(512)\n"
     ]
    }
   ],
   "source": [
    "from lib.config import config_loader\n",
    "MPID_PATH = os.path.dirname(mpid_data_binary.__file__)+\"/../cfg\"\n",
    "CFG = os.path.join(MPID_PATH,\"inference_config_binary.cfg\")\n",
    "\n",
    "# CFG = os.path.join(\"../../cfg\",\"inference_config.cfg\")\n",
    "cfg  = config_loader(CFG)\n",
    "os.environ[\"CUDA_DEVICE_ORDER\"]=\"PCI_BUS_ID\"\n",
    "os.environ[\"CUDA_VISIBLE_DEVICES\"]=cfg.GPUID"
   ]
  },
  {
   "cell_type": "code",
   "execution_count": 5,
   "metadata": {},
   "outputs": [
    {
     "name": "stdout",
     "output_type": "stream",
     "text": [
      "Crop_test.ipynb\r\n",
      "Crop_test_NCpi0.ipynb\r\n",
      "Crop_test_help_function.ipynb\r\n",
      "MCTruth_particles.ipynb\r\n",
      "MPID_binary_example.ipynb\r\n",
      "MPID_example.ipynb\r\n",
      "check.ipynb\r\n",
      "check_info.ipynb\r\n",
      "crop_example.ipynb\r\n",
      "dm_angles_v3.csv\r\n",
      "dm_crop.root\r\n",
      "dm_crop_1.root\r\n",
      "dm_crop_2.root\r\n",
      "dm_energies_v3.csv\r\n",
      "dm_info.csv\r\n",
      "dm_info_v3.csv\r\n",
      "dm_signal_scores.csv\r\n",
      "dm_signal_scores.xlsx\r\n",
      "dm_test.ipynb\r\n",
      "dm_vertex.csv\r\n",
      "dm_vertex_v3.csv\r\n",
      "ep_gamma_comparison.ipynb\r\n",
      "gamma_sample_analysis.ipynb\r\n",
      "imread.root\r\n",
      "inference_DC_ccpi0_2nd_tagger_pytorch.ipynb\r\n",
      "inference_sample01.ipynb\r\n",
      "inference_test.ipynb\r\n",
      "inference_test_six_labels.ipynb\r\n",
      "mpid_model_20200226-12_53_AM_epoch_31_batch_id_1731_title_LR0.001_AG_GN_plane2_5labels_step_98048.pwf\r\n",
      "mpid_model_20200830-01_37_PM_epoch_31_batch_id_1851_title_0.001_AG_GN_final_step_59542.pwf\r\n",
      "mpid_model_20200830-06_40_PM_epoch_45_batch_id_1851_title_0.001_AG_GN_final_step_85596.pwf\r\n",
      "mpid_model_20200901-09_45_PM_epoch_31_batch_id_561_labels_2_title_0.001_AG_GN_final_step_19750.pwf\r\n",
      "mpid_model_20200914-08_42_PM_epoch_0_batch_id_501_labels_2_title_0.001_AG_GN_final_2_classes_step_501.pwf\r\n",
      "mpid_model_20200914-08_44_PM_epoch_0_batch_id_601_labels_2_title_0.001_AG_GN_final_2_classes_step_601.pwf\r\n",
      "mpid_model_20200914-08_45_PM_epoch_0_batch_id_641_labels_2_title_0.001_AG_GN_final_2_classes_step_641.pwf\r\n",
      "mpid_model_20200914-10_30_PM_epoch_3_batch_id_31_labels_2_title_0.001_AG_GN_final_2_classes_step_3784.pwf\r\n",
      "ncpi0_info_v1.csv\r\n",
      "ncpi0_info_v1.csv~\r\n",
      "ncpi0_vertex_v1.csv\r\n",
      "read_vertex.ipynb\r\n",
      "test_sample_analysis.ipynb\r\n",
      "visualize_crop_set.ipynb\r\n",
      "visualize_images.ipynb\r\n"
     ]
    }
   ],
   "source": [
    "ls"
   ]
  },
  {
   "cell_type": "code",
   "execution_count": 6,
   "metadata": {
    "collapsed": true
   },
   "outputs": [],
   "source": [
    "#weight_file=\"mpid_model_20200914-10_30_PM_epoch_3_batch_id_31_labels_2_title_0.001_AG_GN_final_2_classes_step_3784.pwf\"\n",
    "weight_file=\"mpid_model_20200914-08_45_PM_epoch_0_batch_id_641_labels_2_title_0.001_AG_GN_final_2_classes_step_641.pwf\"\n",
    "#weight_file='mpid_model_20200914-08_42_PM_epoch_0_batch_id_501_labels_2_title_0.001_AG_GN_final_2_classes_step_501.pwf'"
   ]
  },
  {
   "cell_type": "code",
   "execution_count": 7,
   "metadata": {},
   "outputs": [
    {
     "data": {
      "text/plain": [
       "MPID(\n",
       "  (features): Sequential(\n",
       "    (0): Conv2d(1, 64, kernel_size=(3, 3), stride=(2, 2), padding=(1, 1))\n",
       "    (1): ReLU()\n",
       "    (2): GroupNorm(64, 64, eps=1e-05, affine=True)\n",
       "    (3): Conv2d(64, 64, kernel_size=(3, 3), stride=(1, 1))\n",
       "    (4): ReLU()\n",
       "    (5): GroupNorm(64, 64, eps=1e-05, affine=True)\n",
       "    (6): AvgPool2d(kernel_size=2, stride=2, padding=1)\n",
       "    (7): Conv2d(64, 96, kernel_size=(3, 3), stride=(1, 1), padding=(1, 1))\n",
       "    (8): ReLU()\n",
       "    (9): GroupNorm(96, 96, eps=1e-05, affine=True)\n",
       "    (10): Conv2d(96, 96, kernel_size=(3, 3), stride=(1, 1))\n",
       "    (11): ReLU()\n",
       "    (12): GroupNorm(96, 96, eps=1e-05, affine=True)\n",
       "    (13): AvgPool2d(kernel_size=2, stride=2, padding=1)\n",
       "    (14): Conv2d(96, 128, kernel_size=(3, 3), stride=(1, 1), padding=(1, 1))\n",
       "    (15): ReLU()\n",
       "    (16): GroupNorm(128, 128, eps=1e-05, affine=True)\n",
       "    (17): Conv2d(128, 128, kernel_size=(3, 3), stride=(1, 1))\n",
       "    (18): ReLU()\n",
       "    (19): GroupNorm(128, 128, eps=1e-05, affine=True)\n",
       "    (20): AvgPool2d(kernel_size=2, stride=2, padding=1)\n",
       "    (21): Conv2d(128, 160, kernel_size=(3, 3), stride=(1, 1), padding=(1, 1))\n",
       "    (22): ReLU()\n",
       "    (23): GroupNorm(160, 160, eps=1e-05, affine=True)\n",
       "    (24): Conv2d(160, 160, kernel_size=(3, 3), stride=(1, 1))\n",
       "    (25): ReLU()\n",
       "    (26): GroupNorm(160, 160, eps=1e-05, affine=True)\n",
       "    (27): AvgPool2d(kernel_size=2, stride=2, padding=1)\n",
       "    (28): Conv2d(160, 192, kernel_size=(3, 3), stride=(1, 1), padding=(1, 1))\n",
       "    (29): ReLU()\n",
       "    (30): GroupNorm(192, 192, eps=1e-05, affine=True)\n",
       "    (31): Conv2d(192, 192, kernel_size=(3, 3), stride=(1, 1))\n",
       "    (32): GroupNorm(192, 192, eps=1e-05, affine=True)\n",
       "    (33): AvgPool2d(kernel_size=2, stride=2, padding=1)\n",
       "  )\n",
       "  (dropout): Dropout(p=0.5)\n",
       "  (classifier): Sequential(\n",
       "    (0): Dropout(p=0.5)\n",
       "    (1): Linear(in_features=12288, out_features=1536, bias=True)\n",
       "    (2): Dropout(p=0.5)\n",
       "    (3): Linear(in_features=1536, out_features=192, bias=True)\n",
       "    (4): Linear(in_features=192, out_features=2, bias=True)\n",
       "  )\n",
       ")"
      ]
     },
     "execution_count": 7,
     "metadata": {},
     "output_type": "execute_result"
    }
   ],
   "source": [
    "train_device = 'cuda' if torch.cuda.is_available() else 'cpu'\n",
    "\n",
    "mpid = mpid_net_binary.MPID()\n",
    "mpid.cuda()\n",
    "\n",
    "mpid.load_state_dict(torch.load(weight_file, map_location=train_device))\n",
    "\n",
    "mpid.eval()"
   ]
  },
  {
   "cell_type": "code",
   "execution_count": 8,
   "metadata": {},
   "outputs": [],
   "source": [
    "test_file = \"../MPID/input/test_set_binary.root\"\n",
    "\n",
    "test_data = mpid_data_binary.MPID_Dataset(test_file,\"image2d_image2d_binary_tree\", train_device)\n",
    "test_loader = DataLoader(dataset=test_data, batch_size= 1 , shuffle=True)"
   ]
  },
  {
   "cell_type": "code",
   "execution_count": 9,
   "metadata": {},
   "outputs": [
    {
     "data": {
      "text/plain": [
       "<matplotlib.image.AxesImage at 0x7fc1e0222e10>"
      ]
     },
     "execution_count": 9,
     "metadata": {},
     "output_type": "execute_result"
    },
    {
     "data": {
      "image/png": "[encoded data removed]",
      "text/plain": [
       "<Figure size 504x432 with 1 Axes>"
      ]
     },
     "metadata": {},
     "output_type": "display_data"
    }
   ],
   "source": [
    "input_image = test_data[4350][0].view(-1,1,512,512)\n",
    "fig, ax= plt.subplots(1,1,figsize=(7,6))\n",
    "ax.imshow(input_image.cpu()[0][0], cmap='jet')"
   ]
  },
  {
   "cell_type": "code",
   "execution_count": 10,
   "metadata": {},
   "outputs": [
    {
     "data": {
      "text/plain": [
       "5999"
      ]
     },
     "execution_count": 10,
     "metadata": {},
     "output_type": "execute_result"
    }
   ],
   "source": [
    "len(test_data)"
   ]
  },
  {
   "cell_type": "code",
   "execution_count": 11,
   "metadata": {
    "collapsed": true
   },
   "outputs": [],
   "source": [
    "score_signal_dm = np.zeros(3000)\n",
    "score_background_ncpi0 = np.zeros(2999)\n",
    "\n",
    "score_background_dm = np.zeros(3000)\n",
    "score_signal_ncpi0 = np.zeros(2999)"
   ]
  },
  {
   "cell_type": "code",
   "execution_count": 12,
   "metadata": {},
   "outputs": [],
   "source": [
    "for ENTRY in range(5999):\n",
    "    input_image = test_data[ENTRY][0].view(-1,1,512,512)\n",
    "\n",
    "    input_image[0][0][input_image[0][0] > 500] = 500\n",
    "    input_image[0][0][input_image[0][0] < 10 ] = 0\n",
    "    score = nn.Sigmoid()(mpid(input_image.cuda())).cpu().detach().numpy()[0]\n",
    "    \n",
    "    if(ENTRY <= 2999):\n",
    "        score_signal_dm[ENTRY] = score[0]\n",
    "        score_background_dm[ENTRY] = score[1]\n",
    "    else:\n",
    "        score_signal_ncpi0[ENTRY - 3000] = score[0]\n",
    "        score_background_ncpi0[ENTRY - 3000] = score[1]"
   ]
  },
  {
   "cell_type": "code",
   "execution_count": 13,
   "metadata": {},
   "outputs": [
    {
     "data": {
      "image/png": "[encoded data removed]",
      "text/plain": [
       "<Figure size 576x432 with 1 Axes>"
      ]
     },
     "metadata": {},
     "output_type": "display_data"
    }
   ],
   "source": [
    "fig, ax = plt.subplots(1,1,figsize = (8,6))\n",
    "ax.set_xlabel(\"Signal score\")\n",
    "ax.grid()\n",
    "plt.hist(score_signal_dm, bins = 10, alpha=0.9, label='DM events',histtype='bar')\n",
    "plt.hist(score_signal_ncpi0, bins = 40, alpha=0.9, label='NC$\\pi$0 events',histtype='bar')\n",
    "plt.legend(loc='upper right')\n",
    "plt.show()"
   ]
  },
  {
   "cell_type": "code",
   "execution_count": 14,
   "metadata": {},
   "outputs": [
    {
     "data": {
      "image/png": "[encoded data removed]",
      "text/plain": [
       "<Figure size 576x432 with 1 Axes>"
      ]
     },
     "metadata": {},
     "output_type": "display_data"
    }
   ],
   "source": [
    "fig, ax = plt.subplots(1,1,figsize = (8,6))\n",
    "ax.set_xlabel(\"Background score\")\n",
    "ax.grid()\n",
    "plt.hist(score_background_dm, bins = 10, alpha=0.9, label='DM events',histtype='bar')\n",
    "plt.hist(score_background_ncpi0, bins = 40, alpha=0.9, label='NC$\\pi$0 events',histtype='bar')\n",
    "plt.legend(loc='upper right')\n",
    "plt.show()"
   ]
  },
  {
   "cell_type": "code",
   "execution_count": null,
   "metadata": {
    "collapsed": true
   },
   "outputs": [],
   "source": []
  }
 ],
 "metadata": {
  "kernelspec": {
   "display_name": "Python 3",
   "language": "python",
   "name": "python3"
  },
  "language_info": {
   "codemirror_mode": {
    "name": "ipython",
    "version": 3
   },
   "file_extension": ".py",
   "mimetype": "text/x-python",
   "name": "python",
   "nbconvert_exporter": "python",
   "pygments_lexer": "ipython3",
   "version": "3.8.3"
  }
 },
 "nbformat": 4,
 "nbformat_minor": 2
}
