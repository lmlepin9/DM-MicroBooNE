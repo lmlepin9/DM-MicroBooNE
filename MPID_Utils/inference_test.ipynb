{
 "cells": [
  {
   "cell_type": "code",
   "execution_count": 1,
   "metadata": {
    "collapsed": false
   },
   "outputs": [
    {
     "data": {
      "application/javascript": [
       "\n",
       "require(['notebook'],\n",
       "  function() {\n",
       "    IPython.CodeCell.config_defaults.highlight_modes['magic_text/x-c++src'] = {'reg':[/^%%cpp/]};\n",
       "    console.log(\"JupyROOT - %%cpp magic configured\");\n",
       "  }\n",
       ");\n"
      ]
     },
     "metadata": {},
     "output_type": "display_data"
    },
    {
     "name": "stdout",
     "output_type": "stream",
     "text": [
      "Welcome to JupyROOT 6.08/06\n"
     ]
    }
   ],
   "source": [
    "import os, sys, ROOT                                                    \n",
    "import numpy as np\n",
    "import pandas as pd\n",
    "\n",
    "import matplotlib.pyplot as plt\n",
    "%matplotlib inline\n",
    "\n",
    "#IMPORTANT: THIS NOTEBOOK SHOULD BE READ ONCE, THEN RESTART THE KERNEL."
   ]
  },
  {
   "cell_type": "code",
   "execution_count": 2,
   "metadata": {
    "collapsed": false
   },
   "outputs": [],
   "source": [
    "import torch\n",
    "import torch.nn as nn\n",
    "import torch.optim as optim\n",
    "import torch.utils.data.dataloader as dataloader\n",
    "\n",
    "\n",
    "from torch.autograd import Variable\n",
    "from torch.utils.data import DataLoader, TensorDataset\n",
    "\n",
    "from mpid_data import mpid_data\n",
    "from mpid_net import mpid_net, mpid_func\n",
    "from __future__ import print_function\n",
    "from larcv import larcv\n",
    "larcv.LArbysLoader()\n",
    "import cv2\n",
    "from larcv_projection_helper import utility as u\n"
   ]
  },
  {
   "cell_type": "code",
   "execution_count": 3,
   "metadata": {
    "collapsed": false
   },
   "outputs": [
    {
     "data": {
      "text/plain": [
       "True"
      ]
     },
     "execution_count": 3,
     "metadata": {},
     "output_type": "execute_result"
    }
   ],
   "source": [
    "torch.cuda.is_available()"
   ]
  },
  {
   "cell_type": "markdown",
   "metadata": {},
   "source": [
    "# SETUP MPID"
   ]
  },
  {
   "cell_type": "code",
   "execution_count": 4,
   "metadata": {
    "collapsed": false,
    "scrolled": true
   },
   "outputs": [
    {
     "name": "stdout",
     "output_type": "stream",
     "text": [
      "self.adc_lo=float(10)\n",
      "self.adc_hi=float(500)\n",
      "self.augment=False\n",
      "self.batch_size_train=int(1)\n",
      "self.batch_size_test=int(1)\n",
      "self.drop_out=0.0\n",
      "self.EPOCHS=50\n",
      "self.GPUID=str(\"1\")\n",
      "self.learning_rate=float(1e-3)\n",
      "self.name=str(\"BN_False_LR-3_AG_True\")\n",
      "self.num_class=int(5)\n",
      "self.plane=2\n",
      "self.run_test=True\n",
      "self.test_events_nums=9\n",
      "self.test_every_step=10\n",
      "self.weight_file_mpid_0=str(\"/scratch/ruian/training_data/weights/pid/plane0/pid-245199\")\n",
      "self.weight_file_mpid_1=str(\"/scratch/ruian/training_data/weights/pid/plane1/pid-355199\")\n",
      "self.weight_file_mpid_2=str(\"/scratch/ruian/training_data/weights/pid/plane2/pid-453799\")\n",
      "self.xdim=int(512)\n",
      "self.ydim=int(512)\n"
     ]
    }
   ],
   "source": [
    "from lib.config import config_loader\n",
    "MPID_PATH = os.path.dirname(mpid_data.__file__)+\"/../cfg\"\n",
    "CFG = os.path.join(MPID_PATH,\"inference_config.cfg\")\n",
    "\n",
    "# CFG = os.path.join(\"../../cfg\",\"inference_config.cfg\")\n",
    "cfg  = config_loader(CFG)\n",
    "\n",
    "os.environ[\"CUDA_DEVICE_ORDER\"]=\"PCI_BUS_ID\"\n",
    "os.environ[\"CUDA_VISIBLE_DEVICES\"]=cfg.GPUID"
   ]
  },
  {
   "cell_type": "code",
   "execution_count": 5,
   "metadata": {
    "collapsed": false
   },
   "outputs": [
    {
     "name": "stdout",
     "output_type": "stream",
     "text": [
      "/bin/sh: 1: Syntax error: \"(\" unexpected\r\n"
     ]
    }
   ],
   "source": [
    "ls()"
   ]
  },
  {
   "cell_type": "markdown",
   "metadata": {},
   "source": [
    "## Load MPID weights"
   ]
  },
  {
   "cell_type": "code",
   "execution_count": 6,
   "metadata": {
    "collapsed": true
   },
   "outputs": [],
   "source": [
    "weight_file = 'mpid_model_20200901-09_45_PM_epoch_31_batch_id_561_labels_2_title_0.001_AG_GN_final_step_19750.pwf'"
   ]
  },
  {
   "cell_type": "code",
   "execution_count": 7,
   "metadata": {
    "collapsed": false
   },
   "outputs": [
    {
     "data": {
      "text/plain": [
       "MPID(\n",
       "  (features): Sequential(\n",
       "    (0): Conv2d(1, 64, kernel_size=(3, 3), stride=(2, 2), padding=(1, 1))\n",
       "    (1): ReLU()\n",
       "    (2): GroupNorm(64, 64, eps=1e-05, affine=True)\n",
       "    (3): Conv2d(64, 64, kernel_size=(3, 3), stride=(1, 1))\n",
       "    (4): ReLU()\n",
       "    (5): GroupNorm(64, 64, eps=1e-05, affine=True)\n",
       "    (6): AvgPool2d(kernel_size=2, stride=2, padding=1)\n",
       "    (7): Conv2d(64, 96, kernel_size=(3, 3), stride=(1, 1), padding=(1, 1))\n",
       "    (8): ReLU()\n",
       "    (9): GroupNorm(96, 96, eps=1e-05, affine=True)\n",
       "    (10): Conv2d(96, 96, kernel_size=(3, 3), stride=(1, 1))\n",
       "    (11): ReLU()\n",
       "    (12): GroupNorm(96, 96, eps=1e-05, affine=True)\n",
       "    (13): AvgPool2d(kernel_size=2, stride=2, padding=1)\n",
       "    (14): Conv2d(96, 128, kernel_size=(3, 3), stride=(1, 1), padding=(1, 1))\n",
       "    (15): ReLU()\n",
       "    (16): GroupNorm(128, 128, eps=1e-05, affine=True)\n",
       "    (17): Conv2d(128, 128, kernel_size=(3, 3), stride=(1, 1))\n",
       "    (18): ReLU()\n",
       "    (19): GroupNorm(128, 128, eps=1e-05, affine=True)\n",
       "    (20): AvgPool2d(kernel_size=2, stride=2, padding=1)\n",
       "    (21): Conv2d(128, 160, kernel_size=(3, 3), stride=(1, 1), padding=(1, 1))\n",
       "    (22): ReLU()\n",
       "    (23): GroupNorm(160, 160, eps=1e-05, affine=True)\n",
       "    (24): Conv2d(160, 160, kernel_size=(3, 3), stride=(1, 1))\n",
       "    (25): ReLU()\n",
       "    (26): GroupNorm(160, 160, eps=1e-05, affine=True)\n",
       "    (27): AvgPool2d(kernel_size=2, stride=2, padding=1)\n",
       "    (28): Conv2d(160, 192, kernel_size=(3, 3), stride=(1, 1), padding=(1, 1))\n",
       "    (29): ReLU()\n",
       "    (30): GroupNorm(192, 192, eps=1e-05, affine=True)\n",
       "    (31): Conv2d(192, 192, kernel_size=(3, 3), stride=(1, 1))\n",
       "    (32): GroupNorm(192, 192, eps=1e-05, affine=True)\n",
       "    (33): AvgPool2d(kernel_size=2, stride=2, padding=1)\n",
       "  )\n",
       "  (dropout): Dropout(p=0.5)\n",
       "  (classifier): Sequential(\n",
       "    (0): Dropout(p=0.5)\n",
       "    (1): Linear(in_features=12288, out_features=1536, bias=True)\n",
       "    (2): Dropout(p=0.5)\n",
       "    (3): Linear(in_features=1536, out_features=192, bias=True)\n",
       "    (4): Linear(in_features=192, out_features=2, bias=True)\n",
       "  )\n",
       ")"
      ]
     },
     "execution_count": 7,
     "metadata": {},
     "output_type": "execute_result"
    }
   ],
   "source": [
    "train_device = 'cuda' if torch.cuda.is_available() else 'cpu'\n",
    "\n",
    "mpid = mpid_net.MPID()\n",
    "mpid.cuda()\n",
    "\n",
    "mpid.load_state_dict(torch.load(weight_file, map_location=train_device))\n",
    "\n",
    "mpid.eval()"
   ]
  },
  {
   "cell_type": "markdown",
   "metadata": {},
   "source": [
    "# One event test \n",
    "\n",
    "The following lines, will read the vertex and dm info list, then it will find the 3D projection into the selected 2D plane (tipically induction)"
   ]
  },
  {
   "cell_type": "code",
   "execution_count": 8,
   "metadata": {
    "collapsed": true
   },
   "outputs": [],
   "source": [
    "#Global variables\n",
    "entry = 10\n",
    "plane = 2"
   ]
  },
  {
   "cell_type": "code",
   "execution_count": 9,
   "metadata": {
    "collapsed": false
   },
   "outputs": [
    {
     "data": {
      "text/plain": [
       "True"
      ]
     },
     "execution_count": 9,
     "metadata": {},
     "output_type": "execute_result"
    },
    {
     "name": "stdout",
     "output_type": "stream",
     "text": [
      "    \u001b[95m[NORMAL]\u001b[00m \u001b[0m \u001b[94m<IOManager::prepare_input>\u001b[00m Opening a file in READ mode: ../MPID/input/dm_sample01.root\n",
      "    \u001b[95m[NORMAL]\u001b[00m \u001b[0m \u001b[94m<IOManager::initialize>\u001b[00m Prepared input with 1380 entries...\n"
     ]
    },
    {
     "name": "stderr",
     "output_type": "stream",
     "text": [
      "Warning in <TClass::Init>: no dictionary for class ROOT::TIOFeatures is available\n",
      "Warning in <TClass::Init>: no dictionary for class larcv::EventSparseImage is available\n",
      "Warning in <TClass::Init>: no dictionary for class larcv::SparseImage is available\n",
      "Warning in <TClass::Init>: no dictionary for class larcv::EventClusterMask is available\n"
     ]
    }
   ],
   "source": [
    "iom = larcv.IOManager(larcv.IOManager.kREAD)\n",
    "iom.add_in_file(\"../MPID/input/dm_sample01.root\")\n",
    "iom.initialize()"
   ]
  },
  {
   "cell_type": "code",
   "execution_count": 10,
   "metadata": {
    "collapsed": false
   },
   "outputs": [
    {
     "name": "stdout",
     "output_type": "stream",
     "text": [
      "Retrieved data snapshot <ROOT.larcv::EventImage2D object at 0xbb9b130>\n"
     ]
    }
   ],
   "source": [
    "# Access entry\n",
    "iom.read_entry(entry)\n",
    "# Access a product instance (type,label) = (image2d,data)\n",
    "image2d_data = iom.get_data(larcv.kProductImage2D,\"wire\")\n",
    "print(\"Retrieved data snapshot\",image2d_data)"
   ]
  },
  {
   "cell_type": "code",
   "execution_count": 11,
   "metadata": {
    "collapsed": false,
    "scrolled": false
   },
   "outputs": [],
   "source": [
    "#print(\"Run, sub-run, event: \", image2d_data.run(), image2d_data.subrun(),image2d_data.event())"
   ]
  },
  {
   "cell_type": "code",
   "execution_count": 12,
   "metadata": {
    "collapsed": true
   },
   "outputs": [],
   "source": [
    "run_vertex = image2d_data.run()\n",
    "subrun_vertex = image2d_data.subrun()\n",
    "event_vertex = image2d_data.event()"
   ]
  },
  {
   "cell_type": "code",
   "execution_count": 13,
   "metadata": {
    "collapsed": false
   },
   "outputs": [],
   "source": [
    "#df = pd.read_csv(\"dm_vertex_v3.csv\")\n",
    "#di = pd.read_csv(\"dm_info_v3.csv\")\n",
    "\n",
    "df = pd.read_csv(\"dm_vertex.csv\")\n",
    "di = pd.read_csv(\"dm_info.csv\")"
   ]
  },
  {
   "cell_type": "code",
   "execution_count": 14,
   "metadata": {
    "collapsed": false
   },
   "outputs": [
    {
     "name": "stderr",
     "output_type": "stream",
     "text": [
      "/usr/local/lib/python2.7/dist-packages/pandas/core/computation/check.py:19: UserWarning: The installed version of numexpr 2.4.3 is not supported in pandas and will be not be used\n",
      "The minimum supported version is 2.6.1\n",
      "\n",
      "  ver=ver, min_ver=_MIN_NUMEXPR_VERSION), UserWarning)\n"
     ]
    }
   ],
   "source": [
    "index_array = di.query('run == {:2d} & subrun == {:2d} & event == {:2d}'.format(run_vertex,subrun_vertex,event_vertex)).index.values"
   ]
  },
  {
   "cell_type": "code",
   "execution_count": 15,
   "metadata": {
    "collapsed": false
   },
   "outputs": [
    {
     "name": "stdout",
     "output_type": "stream",
     "text": [
      "run ==  1 & subrun == 15 & event == 11\n"
     ]
    }
   ],
   "source": [
    "print('run == {:2d} & subrun == {:2d} & event == {:2d}'.format(run_vertex,subrun_vertex,event_vertex))"
   ]
  },
  {
   "cell_type": "code",
   "execution_count": 16,
   "metadata": {
    "collapsed": false
   },
   "outputs": [],
   "source": [
    "vertex_index = index_array[0]"
   ]
  },
  {
   "cell_type": "code",
   "execution_count": 17,
   "metadata": {
    "collapsed": false
   },
   "outputs": [
    {
     "name": "stdout",
     "output_type": "stream",
     "text": [
      "119.977 40.2439 163.02100000000002\n"
     ]
    }
   ],
   "source": [
    "x_2d = ROOT.Double()\n",
    "y_2d = ROOT.Double()\n",
    "\n",
    "vx , vy ,vz = df['v_x'][vertex_index], df['v_y'][vertex_index], df['v_z'][vertex_index]\n",
    "print(vx,vy,vz)"
   ]
  },
  {
   "cell_type": "code",
   "execution_count": 18,
   "metadata": {
    "collapsed": false,
    "scrolled": true
   },
   "outputs": [
    {
     "name": "stderr",
     "output_type": "stream",
     "text": [
      "/usr/local/lib/python2.7/dist-packages/ipykernel/__main__.py:2: DeprecationWarning: PyArray_FromDimsAndDataAndDescr: use PyArray_NewFromDescr.\n",
      "  from ipykernel import kernelapp as app\n"
     ]
    }
   ],
   "source": [
    "whole_img = image2d_data.at(plane)\n",
    "whole_image=larcv.as_ndarray(whole_img)"
   ]
  },
  {
   "cell_type": "code",
   "execution_count": 19,
   "metadata": {
    "collapsed": false,
    "scrolled": true
   },
   "outputs": [
    {
     "data": {
      "text/plain": [
       "(3456, 1008)"
      ]
     },
     "execution_count": 19,
     "metadata": {},
     "output_type": "execute_result"
    }
   ],
   "source": [
    "whole_image.shape"
   ]
  },
  {
   "cell_type": "code",
   "execution_count": 20,
   "metadata": {
    "collapsed": true
   },
   "outputs": [],
   "source": [
    "whole_img.reset_origin(0, 8448)"
   ]
  },
  {
   "cell_type": "code",
   "execution_count": 21,
   "metadata": {
    "collapsed": false
   },
   "outputs": [
    {
     "name": "stdout",
     "output_type": "stream",
     "text": [
      "\u001b[95m    [NORMAL]  \u001b[0m\u001b[95m<LoadData> \u001b[0mLoading data for Geometry...\n",
      "     file=/usr/local/share/dllee_unified/larlite/core/LArUtil/dat/larutil_microboone.root \n",
      "\u001b[95m    [NORMAL]  \u001b[0m\u001b[95m<LoadData> \u001b[0mLoading data for DetectorProperties...\n",
      "     file=/usr/local/share/dllee_unified/larlite/core/LArUtil/dat/larutil_microboone.root \n",
      "\u001b[95m    [NORMAL]  \u001b[0m\u001b[95m<LoadData> \u001b[0mLoading data for LArProperties...\n",
      "     file=/usr/local/share/dllee_unified/larlite/core/LArUtil/dat/larutil_microboone.root \n",
      "543.069986979 492.215331041\n"
     ]
    }
   ],
   "source": [
    "larcv.Project3D(whole_img.meta(), vx, vy, vz, 0, plane , x_2d, y_2d)\n",
    "#Print project 2d vertex at selected plane\n",
    "print(x_2d , y_2d)"
   ]
  },
  {
   "cell_type": "code",
   "execution_count": 22,
   "metadata": {
    "collapsed": false,
    "scrolled": false
   },
   "outputs": [
    {
     "data": {
      "text/plain": [
       "[<matplotlib.lines.Line2D at 0x7f353c09e690>]"
      ]
     },
     "execution_count": 22,
     "metadata": {},
     "output_type": "execute_result"
    },
    {
     "data": {
      "image/png": "[encoded data removed]",
      "text/plain": [
       "<Figure size 1440x1440 with 1 Axes>"
      ]
     },
     "metadata": {},
     "output_type": "display_data"
    }
   ],
   "source": [
    "fig, ax1 = plt.subplots(1,1,figsize=(20,20))\n",
    "ax1.imshow(whole_image, cmap=\"jet\", origin=\"lower\")\n",
    "ax1.plot(y_2d, x_2d, \"*\", markersize=10, color=\"magenta\")"
   ]
  },
  {
   "cell_type": "code",
   "execution_count": 23,
   "metadata": {
    "collapsed": false
   },
   "outputs": [
    {
     "name": "stdout",
     "output_type": "stream",
     "text": [
      "287.069986979 7030.70801375\n"
     ]
    },
    {
     "name": "stderr",
     "output_type": "stream",
     "text": [
      "/usr/local/lib/python2.7/dist-packages/ipykernel/__main__.py:6: DeprecationWarning: PyArray_FromDimsAndDataAndDescr: use PyArray_NewFromDescr.\n"
     ]
    }
   ],
   "source": [
    "meta_crop = larcv.ImageMeta(512,512*6,512,512,0,0,plane)\n",
    "meta_origin_x, meta_origin_y = u.Meta_origin_helper(x_2d, y_2d, verbose=0)\n",
    "print(meta_origin_x,meta_origin_y)\n",
    "meta_crop.reset_origin(meta_origin_x,meta_origin_y)\n",
    "image_vtx = image2d_data.at(plane).crop(meta_crop)\n",
    "img_vtx = larcv.as_ndarray(image_vtx)\n",
    "img_vtx = np.where(img_vtx<10 ,0  ,img_vtx)\n",
    "img_vtx = np.where(img_vtx>500,500,img_vtx)"
   ]
  },
  {
   "cell_type": "markdown",
   "metadata": {},
   "source": [
    "# Start inference "
   ]
  },
  {
   "cell_type": "code",
   "execution_count": 24,
   "metadata": {
    "collapsed": true
   },
   "outputs": [],
   "source": [
    "img_input = torch.from_numpy(img_vtx.copy()).view(-1,1,512,512)\n",
    "score = nn.Sigmoid()(mpid(img_input.cuda())).cpu().detach().numpy()[0]"
   ]
  },
  {
   "cell_type": "code",
   "execution_count": 25,
   "metadata": {
    "collapsed": false,
    "scrolled": true
   },
   "outputs": [
    {
     "name": "stdout",
     "output_type": "stream",
     "text": [
      "[0.00326544 0.9968273 ]\n"
     ]
    }
   ],
   "source": [
    "print(score)"
   ]
  },
  {
   "cell_type": "code",
   "execution_count": 26,
   "metadata": {
    "collapsed": false
   },
   "outputs": [
    {
     "data": {
      "text/plain": [
       "Text(0,120,'Entry, 10')"
      ]
     },
     "execution_count": 26,
     "metadata": {},
     "output_type": "execute_result"
    },
    {
     "data": {
      "image/png": "[encoded data removed]",
      "text/plain": [
       "<Figure size 504x432 with 1 Axes>"
      ]
     },
     "metadata": {},
     "output_type": "display_data"
    }
   ],
   "source": [
    "fig, ax= plt.subplots(1,1,figsize=(7,6))\n",
    "ax.imshow(img_vtx, cmap=\"jet\", origin=\"lower\")\n",
    "ax.set_xlim(0,511)\n",
    "ax.set_ylim(0,511)\n",
    "ax.text(0,20, \"pair, %.3f\"%score[0],color=\"white\",fontsize=15)\n",
    "ax.text(0,40, \"gamma, %.3f\"%score[1],color=\"white\",fontsize=15)\n",
    "ax.text(0,120, \"Entry, %i\"%entry,color=\"white\",fontsize=15)"
   ]
  },
  {
   "cell_type": "code",
   "execution_count": 27,
   "metadata": {
    "collapsed": false
   },
   "outputs": [
    {
     "data": {
      "text/plain": [
       "'\\nfig, ax= plt.subplots(1,1,figsize=(7,6))\\nax.imshow(img_vtx, cmap=\"jet\", origin=\"lower\")\\nax.set_xlim(0,511)\\nax.set_ylim(0,511)\\nax.text(0,20, \"electron, %.3f\"%score[0],color=\"white\",fontsize=15)\\nax.text(0,40, \"gamma, %.3f\"%score[1],color=\"white\",fontsize=15)\\nax.text(0,60, \"muon, %.3f\"%score[2],color=\"white\",fontsize=15)\\nax.text(0,80, \"pion, %.3f\"%score[3],color=\"white\",fontsize=15)\\nax.text(0,100, \"proton, %.3f\"%score[4],color=\"white\",fontsize=15)\\nax.text(0,120, \"e+e- pair, %.3f\"%score[5],color=\"white\",fontsize=15)\\n#ax.text(0,120, \"Entry, %i\"%entry,color=\"white\",fontsize=15)\\n'"
      ]
     },
     "execution_count": 27,
     "metadata": {},
     "output_type": "execute_result"
    }
   ],
   "source": [
    "\"\"\"\n",
    "fig, ax= plt.subplots(1,1,figsize=(7,6))\n",
    "ax.imshow(img_vtx, cmap=\"jet\", origin=\"lower\")\n",
    "ax.set_xlim(0,511)\n",
    "ax.set_ylim(0,511)\n",
    "ax.text(0,20, \"electron, %.3f\"%score[0],color=\"white\",fontsize=15)\n",
    "ax.text(0,40, \"gamma, %.3f\"%score[1],color=\"white\",fontsize=15)\n",
    "ax.text(0,60, \"muon, %.3f\"%score[2],color=\"white\",fontsize=15)\n",
    "ax.text(0,80, \"pion, %.3f\"%score[3],color=\"white\",fontsize=15)\n",
    "ax.text(0,100, \"proton, %.3f\"%score[4],color=\"white\",fontsize=15)\n",
    "ax.text(0,120, \"e+e- pair, %.3f\"%score[5],color=\"white\",fontsize=15)\n",
    "#ax.text(0,120, \"Entry, %i\"%entry,color=\"white\",fontsize=15)\n",
    "\"\"\"\n"
   ]
  },
  {
   "cell_type": "code",
   "execution_count": null,
   "metadata": {
    "collapsed": true
   },
   "outputs": [],
   "source": []
  }
 ],
 "metadata": {
  "kernelspec": {
   "display_name": "Python 2",
   "language": "python",
   "name": "python2"
  },
  "language_info": {
   "codemirror_mode": {
    "name": "ipython",
    "version": 2
   },
   "file_extension": ".py",
   "mimetype": "text/x-python",
   "name": "python",
   "nbconvert_exporter": "python",
   "pygments_lexer": "ipython2",
   "version": "2.7.12"
  }
 },
 "nbformat": 4,
 "nbformat_minor": 2
}
