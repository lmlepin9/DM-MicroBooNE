{
 "cells": [
  {
   "cell_type": "code",
   "execution_count": 1,
   "metadata": {},
   "outputs": [
    {
     "data": {
      "application/javascript": [
       "\n",
       "require(['notebook'],\n",
       "  function() {\n",
       "    IPython.CodeCell.config_defaults.highlight_modes['magic_text/x-c++src'] = {'reg':[/^%%cpp/]};\n",
       "    console.log(\"JupyROOT - %%cpp magic configured\");\n",
       "  }\n",
       ");\n"
      ]
     },
     "metadata": {},
     "output_type": "display_data"
    },
    {
     "name": "stdout",
     "output_type": "stream",
     "text": [
      "Welcome to JupyROOT 6.08/06\n"
     ]
    }
   ],
   "source": [
    "import os, sys, ROOT\n",
    "import uproot as np                                                    \n",
    "import numpy as np\n",
    "import pandas as pd\n",
    "import matplotlib.pyplot as plt\n",
    "%matplotlib inline"
   ]
  },
  {
   "cell_type": "code",
   "execution_count": 2,
   "metadata": {
    "collapsed": true
   },
   "outputs": [],
   "source": [
    "import torch\n",
    "import torch.nn as nn\n",
    "import torch.optim as optim\n",
    "import torch.utils.data.dataloader as dataloader\n",
    "\n",
    "from torch.autograd import Variable\n",
    "from torch.utils.data import DataLoader, TensorDataset\n",
    "\n",
    "from mpid_data import mpid_data\n",
    "from mpid_net import mpid_net, mpid_func"
   ]
  },
  {
   "cell_type": "code",
   "execution_count": 3,
   "metadata": {},
   "outputs": [
    {
     "name": "stdout",
     "output_type": "stream",
     "text": [
      "self.adc_lo=float(10)\n",
      "self.adc_hi=float(500)\n",
      "self.augment=False\n",
      "self.batch_size_train=int(1)\n",
      "self.batch_size_test=int(1)\n",
      "self.drop_out=0.0\n",
      "self.EPOCHS=50\n",
      "self.GPUID=str(\"1\")\n",
      "self.learning_rate=float(1e-3)\n",
      "self.name=str(\"BN_False_LR-3_AG_True\")\n",
      "self.num_class=int(5)\n",
      "self.plane=2\n",
      "self.run_test=True\n",
      "self.test_events_nums=9\n",
      "self.test_every_step=10\n",
      "self.weight_file_mpid_0=str(\"/scratch/ruian/training_data/weights/pid/plane0/pid-245199\")\n",
      "self.weight_file_mpid_1=str(\"/scratch/ruian/training_data/weights/pid/plane1/pid-355199\")\n",
      "self.weight_file_mpid_2=str(\"/scratch/ruian/training_data/weights/pid/plane2/pid-453799\")\n",
      "self.xdim=int(512)\n",
      "self.ydim=int(512)\n"
     ]
    }
   ],
   "source": [
    "from lib.config import config_loader\n",
    "CFG = os.path.join(\"../../cfg\",\"inference_config.cfg\")\n",
    "cfg  = config_loader(CFG)\n",
    "\n",
    "os.environ[\"CUDA_DEVICE_ORDER\"]=\"PCI_BUS_ID\"\n",
    "os.environ[\"CUDA_VISIBLE_DEVICES\"]=cfg.GPUID"
   ]
  },
  {
   "cell_type": "code",
   "execution_count": 4,
   "metadata": {
    "collapsed": true
   },
   "outputs": [],
   "source": [
    "weight_file=\"../../weight/mpid_model_20191108-12_41_AM_epoch_29_batch_id_1811_title_LR-3_AG_True_new_modi_GN_changes_in_fullyCY_step_55954.pwf\""
   ]
  },
  {
   "cell_type": "code",
   "execution_count": 5,
   "metadata": {},
   "outputs": [
    {
     "data": {
      "text/plain": [
       "MPID(\n",
       "  (features): Sequential(\n",
       "    (0): Conv2d(1, 64, kernel_size=(3, 3), stride=(2, 2), padding=(1, 1))\n",
       "    (1): ReLU()\n",
       "    (2): GroupNorm(64, 64, eps=1e-05, affine=True)\n",
       "    (3): Conv2d(64, 64, kernel_size=(3, 3), stride=(1, 1))\n",
       "    (4): ReLU()\n",
       "    (5): GroupNorm(64, 64, eps=1e-05, affine=True)\n",
       "    (6): AvgPool2d(kernel_size=2, stride=2, padding=1)\n",
       "    (7): Conv2d(64, 96, kernel_size=(3, 3), stride=(1, 1), padding=(1, 1))\n",
       "    (8): ReLU()\n",
       "    (9): GroupNorm(96, 96, eps=1e-05, affine=True)\n",
       "    (10): Conv2d(96, 96, kernel_size=(3, 3), stride=(1, 1))\n",
       "    (11): ReLU()\n",
       "    (12): GroupNorm(96, 96, eps=1e-05, affine=True)\n",
       "    (13): AvgPool2d(kernel_size=2, stride=2, padding=1)\n",
       "    (14): Conv2d(96, 128, kernel_size=(3, 3), stride=(1, 1), padding=(1, 1))\n",
       "    (15): ReLU()\n",
       "    (16): GroupNorm(128, 128, eps=1e-05, affine=True)\n",
       "    (17): Conv2d(128, 128, kernel_size=(3, 3), stride=(1, 1))\n",
       "    (18): ReLU()\n",
       "    (19): GroupNorm(128, 128, eps=1e-05, affine=True)\n",
       "    (20): AvgPool2d(kernel_size=2, stride=2, padding=1)\n",
       "    (21): Conv2d(128, 160, kernel_size=(3, 3), stride=(1, 1), padding=(1, 1))\n",
       "    (22): ReLU()\n",
       "    (23): GroupNorm(160, 160, eps=1e-05, affine=True)\n",
       "    (24): Conv2d(160, 160, kernel_size=(3, 3), stride=(1, 1))\n",
       "    (25): ReLU()\n",
       "    (26): GroupNorm(160, 160, eps=1e-05, affine=True)\n",
       "    (27): AvgPool2d(kernel_size=2, stride=2, padding=1)\n",
       "    (28): Conv2d(160, 192, kernel_size=(3, 3), stride=(1, 1), padding=(1, 1))\n",
       "    (29): ReLU()\n",
       "    (30): GroupNorm(192, 192, eps=1e-05, affine=True)\n",
       "    (31): Conv2d(192, 192, kernel_size=(3, 3), stride=(1, 1))\n",
       "    (32): GroupNorm(192, 192, eps=1e-05, affine=True)\n",
       "    (33): AvgPool2d(kernel_size=2, stride=2, padding=1)\n",
       "  )\n",
       "  (dropout): Dropout(p=0.5)\n",
       "  (classifier): Sequential(\n",
       "    (0): Dropout(p=0.5)\n",
       "    (1): Linear(in_features=12288, out_features=1536, bias=True)\n",
       "    (2): Dropout(p=0.5)\n",
       "    (3): Linear(in_features=1536, out_features=192, bias=True)\n",
       "    (4): Linear(in_features=192, out_features=5, bias=True)\n",
       "  )\n",
       ")"
      ]
     },
     "execution_count": 5,
     "metadata": {},
     "output_type": "execute_result"
    }
   ],
   "source": [
    "train_device = 'cuda' if torch.cuda.is_available() else 'cpu'\n",
    "\n",
    "mpid = mpid_net.MPID()\n",
    "mpid.cuda()\n",
    "\n",
    "mpid.load_state_dict(torch.load(weight_file, map_location=train_device))\n",
    "\n",
    "mpid.eval()"
   ]
  },
  {
   "cell_type": "code",
   "execution_count": 6,
   "metadata": {},
   "outputs": [
    {
     "name": "stderr",
     "output_type": "stream",
     "text": [
      "Warning in <TClass::Init>: no dictionary for class ROOT::TIOFeatures is available\n"
     ]
    }
   ],
   "source": [
    "# test_file = \"./input/1e.root\"\n",
    "test_file = \"./input/1e1p1gamma.root\"\n",
    "# test_file = \"./input/1mu1p.root\"\n",
    "# test_file = \"./input/1pion1p.root\"\n",
    "# test_file = \"./input/1gamma1p.root\"\n",
    "# test_file = \"./input/1gamma.root\"\n",
    "# test_file = \"./input/1gamma1p.root\"\n",
    "# test_file = \"./input/1mu1pion.root\"\n",
    "\n",
    "test_data = mpid_data.MPID_Dataset(test_file, \"particle_mctruth_tree\", \"sparse2d_wire_tree\", train_device)\n",
    "test_loader = DataLoader(dataset=test_data, batch_size= 1 , shuffle=True)\n"
   ]
  },
  {
   "cell_type": "code",
   "execution_count": 7,
   "metadata": {
    "collapsed": true
   },
   "outputs": [],
   "source": [
    "def add_mask(input_tensor):\n",
    "    input_tensor[input_tensor>0] = 0 \n",
    "    return input_tensor"
   ]
  },
  {
   "cell_type": "code",
   "execution_count": 8,
   "metadata": {
    "collapsed": true
   },
   "outputs": [],
   "source": [
    "#1e1p, entry 30 42 45"
   ]
  },
  {
   "cell_type": "markdown",
   "metadata": {},
   "source": [
    "# Scanning Occlusion"
   ]
  },
  {
   "cell_type": "code",
   "execution_count": 17,
   "metadata": {
    "scrolled": false
   },
   "outputs": [
    {
     "data": {
      "image/png": "[encoded data removed]",
      "text/plain": [
       "<Figure size 504x432 with 1 Axes>"
      ]
     },
     "metadata": {},
     "output_type": "display_data"
    }
   ],
   "source": [
    "occlusion_step = 4\n",
    "# do_occlusion = False\n",
    "do_occlusion = True\n",
    "entry_start=32\n",
    "entries=1\n",
    "if not do_occlusion:\n",
    "    entries = 10\n",
    "\n",
    "for ENTRY in xrange(entry_start, entry_start + entries):\n",
    "    input_image = test_data[ENTRY][0].view(-1,1,512,512)\n",
    "\n",
    "    input_image[0][0][input_image[0][0] > 500] = 500\n",
    "    input_image[0][0][input_image[0][0] < 10 ] = 0\n",
    "    \n",
    "#     print np.max(input_image.cpu().detach().numpy())\n",
    "\n",
    "    engs = test_data[ENTRY][2].cpu().detach().numpy()\n",
    "\n",
    "    score = nn.Sigmoid()(mpid(input_image.cuda()))\n",
    "    \n",
    "#     print score.cpu().detach().numpy()[0]\n",
    "    \n",
    "    fig, ax= plt.subplots(1,1,figsize=(7,6))\n",
    "    ax.imshow(input_image.cpu()[0][0], cmap='jet')\n",
    "    ax.set_xlim(100,500)\n",
    "    ax.set_ylim(100,500)\n",
    "    ax.tick_params(top=0, bottom=0, left=0, right=0, labelleft=0, labelbottom=0)\n",
    "\n",
    "#     ax.text(0,20, \"elec, %.3f\"%score.cpu().detach().numpy()[0][0],color=\"white\",fontsize=15)\n",
    "#     ax.text(0,40, \"gamm, %.3f\"%score.cpu().detach().numpy()[0][1],color=\"white\",fontsize=15)\n",
    "#     ax.text(0,60, \"muon, %.3f\"%score.cpu().detach().numpy()[0][2],color=\"white\",fontsize=15)\n",
    "#     ax.text(0,80, \"pion, %.3f\"%score.cpu().detach().numpy()[0][3],color=\"white\",fontsize=15)\n",
    "#     ax.text(0,100, \"prot, %.3f\"%score.cpu().detach().numpy()[0][4],color=\"white\",fontsize=15)\n",
    "#     ax.text(0,120, \"Entry, %i\"%ENTRY,color=\"white\",fontsize=15)\n",
    "#     ax.text(0,140, \"eng elec, %.1f\"%(engs[0]*1000),color=\"white\",fontsize=15)\n",
    "#     ax.text(0,160, \"eng gam, %.1f\"%(engs[1]*1000),color=\"white\",fontsize=15)\n",
    "#     ax.text(0,180, \"eng muo, %.1f\"%(engs[2]*1000),color=\"white\",fontsize=15)\n",
    "#     ax.text(0,200, \"eng pion, %.1f\"%(engs[3]*1000),color=\"white\",fontsize=15)\n",
    "#     ax.text(0,220, \"eng prot, %.1f\"%(engs[4]*1000-938),color=\"white\",fontsize=15)\n",
    "    \n",
    "    if not do_occlusion: continue\n",
    "    \n",
    "#     clone_image = input_image.cpu().clone()\n",
    "#     clone_image[0][0][200:300, 400:430] = 50\n",
    "#     fig, ax= plt.subplots(1,1,figsize=(10,8))    \n",
    "#     ax.imshow(clone_image.cpu()[0][0], cmap='jet')\n",
    "    score_map_elec = np.full([512-occlusion_step, 512-occlusion_step], score.cpu().detach().numpy()[0][0])\n",
    "    score_map_gamm = np.full([512-occlusion_step, 512-occlusion_step], score.cpu().detach().numpy()[0][1])\n",
    "    score_map_muon = np.full([512-occlusion_step, 512-occlusion_step], score.cpu().detach().numpy()[0][2])\n",
    "    score_map_pion = np.full([512-occlusion_step, 512-occlusion_step], score.cpu().detach().numpy()[0][3])\n",
    "    score_map_prot = np.full([512-occlusion_step, 512-occlusion_step], score.cpu().detach().numpy()[0][4])\n",
    "    \n",
    "    clone_image = input_image.cpu().clone()\n",
    "    \n",
    "    for x in xrange(512 - occlusion_step):\n",
    "        for y in xrange(512 - occlusion_step):\n",
    "            clone_image = input_image.cpu().clone()\n",
    "#             if np.count_nonzero(clone_image[0][0][x-occlusion_step:x+occlusion_step+1,\n",
    "#                                                   y-occlusion_step:y+occlusion_step+1])==0:continue\n",
    "            if clone_image[0][0][x,y]==0:continue\n",
    "            \n",
    "            clone_image[0][0][x-occlusion_step:x+occlusion_step+1,\n",
    "                              y-occlusion_step:y+occlusion_step+1] = torch.zeros([2*occlusion_step+1, 2*occlusion_step+1])\n",
    "            \n",
    "            score = nn.Sigmoid()(mpid(clone_image.cuda())).cpu().detach().numpy()[0]\n",
    "            score_map_elec[x,y] = score[0]\n",
    "            score_map_gamm[x,y] = score[1]\n",
    "            score_map_muon[x,y] = score[2]\n",
    "            score_map_pion[x,y] = score[3]\n",
    "            score_map_prot[x,y] = score[4]\n",
    "        \n",
    "#             fig, ax= plt.subplots(1,1,figsize=(10,8))    \n",
    "#             ax.imshow(clone_image[0][0], cmap='jet')\n",
    "#             ax.plot(y, x, \"*\", color = 'white',markersize=5)\n",
    "#             ax.text(0,20, score[0],color=\"white\",fontsize=15)\n",
    "#             ax.text(0,40, score[1],color=\"white\",fontsize=15)\n",
    "#             ax.text(0,60, score[2],color=\"white\",fontsize=15)\n",
    "#             ax.text(0,80, score[3],color=\"white\",fontsize=15)\n",
    "#             ax.text(0,100, score[4],color=\"white\",fontsize=15)\n",
    "\n",
    "#             ax.text(0,0,\"Y Plane\", fontsize=20, color=\"white\")\n",
    "#             ax.text(0, 50, \"MicroBooNE Simulation\", fontsize=20, color=\"white\")\n",
    "\n",
    "#     clone_image = input_image.cpu().clone()\n",
    "# #     clone_image = torch.ones([1,1,512,512])\n",
    "#     y = 190\n",
    "#     x = 430\n",
    "#     clone_image[0][0][x-occlusion_step:x+occlusion_step+1,\n",
    "#                       y-occlusion_step:y+occlusion_step+1] = torch.zeros([2*occlusion_step+1, 2*occlusion_step+1])\n",
    "#     score = nn.Sigmoid()(mpid(clone_image.cuda())).cpu().detach().numpy()[0]\n",
    "#     fig, ax= plt.subplots(1,1,figsize=(10,8))    \n",
    "#     ax.imshow(clone_image[0][0], cmap='jet')\n",
    "#     ax.plot(y, x, \"*\", color = 'white',markersize=5)\n",
    "#     ax.text(0,20, score[0],color=\"white\",fontsize=15)\n",
    "#     ax.text(0,40, score[1],color=\"white\",fontsize=15)\n",
    "#     ax.text(0,60, score[2],color=\"white\",fontsize=15)\n",
    "#     ax.text(0,80, score[3],color=\"white\",fontsize=15)\n",
    "#     ax.text(0,100, score[4],color=\"white\",fontsize=15)"
   ]
  },
  {
   "cell_type": "code",
   "execution_count": 28,
   "metadata": {
    "collapsed": true
   },
   "outputs": [],
   "source": [
    "def score_plot(score_map, title, xmin, xmax, ymin, ymax, vmin, vmax, cmap=\"jet\"):\n",
    "\n",
    "    if not xmin:\n",
    "        xmin=0\n",
    "        ymin=0\n",
    "        xmax=score_map.shape[1]-1\n",
    "        ymax=score_map.shape[1]-1\n",
    "    \n",
    "    xmin = 100\n",
    "    xmax = 500\n",
    "    ymin = 100\n",
    "    ymax = 500\n",
    "    \n",
    "    fig, ax = plt.subplots(1,1,figsize=(8,6))\n",
    "    pos = ax.imshow(score_map, cmap=cmap, vmin=vmin, vmax=vmax)     \n",
    "#     ax.set_title(title)\n",
    "    ax.set_xlim(xmin, xmax)\n",
    "    ax.set_ylim(ymin, ymax)\n",
    "    ax.set_xlabel(\"%s score map\"%title, fontsize=15)\n",
    "    fig.colorbar(pos, ax=ax)\n",
    "    ax.tick_params(top=0, bottom=0, left=0, right=0, labelleft=0, labelbottom=0)\n",
    "\n",
    "    plt.savefig(\"/media/hdd1/ruian/work/MPID_pytorch/uboone/occlusion/output/%s_score_map.png\"%title,\n",
    "                bbox_inches=\"tight\", pad_inches=0.01)"
   ]
  },
  {
   "cell_type": "code",
   "execution_count": 29,
   "metadata": {
    "scrolled": false
   },
   "outputs": [
    {
     "data": {
      "image/png": "[encoded data removed]",
      "text/plain": [
       "<Figure size 576x432 with 2 Axes>"
      ]
     },
     "metadata": {},
     "output_type": "display_data"
    },
    {
     "data": {
      "image/png": "[encoded data removed]",
      "text/plain": [
       "<Figure size 576x432 with 2 Axes>"
      ]
     },
     "metadata": {},
     "output_type": "display_data"
    },
    {
     "data": {
      "image/png": "[encoded data removed]",
      "text/plain": [
       "<Figure size 576x432 with 2 Axes>"
      ]
     },
     "metadata": {},
     "output_type": "display_data"
    }
   ],
   "source": [
    "cmap=\"Oranges\"\n",
    "cmap=\"jet\"\n",
    "vmin = 0.3\n",
    "vmax = 0.9\n",
    "# cmap=\"Oranges\"\n",
    "score_plot(score_map_elec, \"Electron\", 0,0,0,0,vmin,vmax, cmap)\n",
    "score_plot(score_map_gamm, \"Photon\", 0,0,0,0,vmin,vmax, cmap)\n",
    "# score_plot(score_map_muon, \"muon\", 0,0,0,0,vmin,vmax, cmap)\n",
    "# score_plot(score_map_pion, \"pion\", 0,0,0,0,vmin,vmax, cmap)\n",
    "score_plot(score_map_prot, \"Proton\", 0,0,0,0,vmin,vmax, cmap)"
   ]
  },
  {
   "cell_type": "code",
   "execution_count": null,
   "metadata": {
    "collapsed": true
   },
   "outputs": [],
   "source": []
  },
  {
   "cell_type": "code",
   "execution_count": null,
   "metadata": {
    "collapsed": true
   },
   "outputs": [],
   "source": []
  },
  {
   "cell_type": "code",
   "execution_count": null,
   "metadata": {
    "collapsed": true
   },
   "outputs": [],
   "source": []
  },
  {
   "cell_type": "markdown",
   "metadata": {},
   "source": [
    "# Box Occlusion"
   ]
  },
  {
   "cell_type": "code",
   "execution_count": 67,
   "metadata": {
    "scrolled": false
   },
   "outputs": [
    {
     "data": {
      "image/png": "[encoded data removed]",
      "text/plain": [
       "<Figure size 1440x576 with 2 Axes>"
      ]
     },
     "metadata": {},
     "output_type": "display_data"
    }
   ],
   "source": [
    "do_occlusion = False\n",
    "do_occlusion = True\n",
    "entry_start=32\n",
    "entries=1\n",
    "if not do_occlusion:\n",
    "    entries = 10\n",
    "\n",
    "for ENTRY in xrange(entry_start, entry_start + entries):\n",
    "    input_image = test_data[ENTRY][0].view(-1,1,512,512)\n",
    "\n",
    "#     print np.max(input_image.cpu().detach().numpy())\n",
    "\n",
    "    engs = test_data[ENTRY][2].cpu().detach().numpy()\n",
    "\n",
    "    score = nn.Sigmoid()(mpid(input_image.cuda()))\n",
    "    \n",
    "#     print score.cpu().detach().numpy()[0]\n",
    "    \n",
    "    fig, (ax1,ax2)= plt.subplots(1,2,figsize=(20,8))\n",
    "    ax1.imshow(input_image.cpu()[0][0], cmap='jet')\n",
    "#     ax1.set_xlim(0,511)\n",
    "#     ax1.set_ylim(0,511)\n",
    "    ybase = 250\n",
    "    xbase = 300\n",
    "    ax1.text(xbase+0,ybase+20, \"elec, %.3f\"%score.cpu().detach().numpy()[0][0],color=\"white\",fontsize=15)\n",
    "    ax1.text(xbase+0,ybase+40, \"gamm, %.3f\"%score.cpu().detach().numpy()[0][1],color=\"white\",fontsize=15)\n",
    "    ax1.text(xbase+0,ybase+60, \"muon, %.3f\"%score.cpu().detach().numpy()[0][2],color=\"white\",fontsize=15)\n",
    "    ax1.text(xbase+0,ybase+80, \"pion, %.3f\"%score.cpu().detach().numpy()[0][3],color=\"white\",fontsize=15)\n",
    "    ax1.text(xbase+0,ybase+100, \"prot, %.3f\"%score.cpu().detach().numpy()[0][4],color=\"white\",fontsize=15)\n",
    "    ax1.text(xbase+0,ybase+120, \"Entry, %i\"%ENTRY,color=\"white\",fontsize=15)\n",
    "    ax1.text(xbase+0,ybase+140, \"eng elec, %.1f\"%(engs[0]*1000),color=\"white\",fontsize=15)\n",
    "    ax1.text(xbase+0,ybase+160, \"eng gam, %.1f\"%(engs[1]*1000),color=\"white\",fontsize=15)\n",
    "    ax1.text(xbase+0,ybase+180, \"eng muo, %.1f\"%(engs[2]*1000),color=\"white\",fontsize=15)\n",
    "    ax1.text(xbase+0,ybase+200, \"eng pion, %.1f\"%(engs[3]*1000),color=\"white\",fontsize=15)\n",
    "    ax1.text(xbase+0,ybase+220, \"eng prot, %.1f\"%(engs[4]*1000-938),color=\"white\",fontsize=15)\n",
    "    \n",
    "    clone_image = input_image.cpu().clone()       \n",
    "    clone_image[0][0][clone_image[0][0] > 500] = 500\n",
    "    clone_image[0][0][clone_image[0][0] < 10 ] = 0\n",
    "    ########################################\n",
    "#     clone_image[0][0][290:310, 150:170] = 0  #1e1p1gamma entry32\n",
    "#     clone_image[0][0][200:279, 160:210] = 0 # prton\n",
    "#     clone_image[0][0][310:350, 170:210] = 0 # proton\n",
    "    clone_image[0][0][290:, :170] = 0 # proton\n",
    "    clone_image[0][0][350:, :190] = 0 # proton\n",
    "\n",
    "    ########################################    \n",
    "    ax2.imshow(clone_image[0][0], cmap='jet')\n",
    "#     ax2.set_xlim(0,511)\n",
    "#     ax2.set_ylim(0,511)\n",
    "    score = nn.Sigmoid()(mpid(clone_image.cuda()))#.cpu().detach().numpy()[0]\n",
    "    ax2.text(xbase+0,ybase+20, \"elec, %.3f\"%score.cpu().detach().numpy()[0][0],color=\"white\",fontsize=15)\n",
    "    ax2.text(xbase+0,ybase+40, \"gamm, %.3f\"%score.cpu().detach().numpy()[0][1],color=\"white\",fontsize=15)\n",
    "    ax2.text(xbase+0,ybase+60, \"muon, %.3f\"%score.cpu().detach().numpy()[0][2],color=\"white\",fontsize=15)\n",
    "    ax2.text(xbase+0,ybase+80, \"pion, %.3f\"%score.cpu().detach().numpy()[0][3],color=\"white\",fontsize=15)\n",
    "    ax2.text(xbase+0,ybase+100, \"prot, %.3f\"%score.cpu().detach().numpy()[0][4],color=\"white\",fontsize=15)\n",
    "    ax2.text(xbase+0,ybase+120, \"Entry, %i\"%ENTRY,color=\"white\",fontsize=15)\n",
    "    ax2.text(xbase+0,ybase+140, \"eng elec, %.1f MEV\"%(engs[0]*1000),color=\"white\",fontsize=15)\n",
    "    ax2.text(xbase+0,ybase+160, \"eng gam, %.1f MEV\"%(engs[1]*1000),color=\"white\",fontsize=15)\n",
    "    ax2.text(xbase+0,ybase+180, \"eng muo, %.1f MEV\"%(engs[2]*1000),color=\"white\",fontsize=15)\n",
    "    ax2.text(xbase+0,ybase+200, \"eng pion, %.1f MEV\"%(engs[3]*1000),color=\"white\",fontsize=15)\n",
    "    ax2.text(xbase+0,ybase+220, \"eng prot, %.1f MEV\"%(engs[4]*1000-938),color=\"white\",fontsize=15)\n"
   ]
  },
  {
   "cell_type": "code",
   "execution_count": null,
   "metadata": {
    "collapsed": true
   },
   "outputs": [],
   "source": []
  },
  {
   "cell_type": "code",
   "execution_count": 87,
   "metadata": {
    "collapsed": true
   },
   "outputs": [],
   "source": [
    "# test_file = \"./input/1e.root\"\n",
    "# test_file = \"./input/1e1p1gamma.root\"\n",
    "test_file = \"./input/1mu1p.root\"\n",
    "# test_file = \"./input/1pion1p.root\"\n",
    "# test_file = \"./input/1gamma1p.root\"\n",
    "# test_file = \"./input/1gamma.root\"\n",
    "# test_file = \"./input/1gamma1p.root\"\n",
    "# test_file = \"./input/1mu1pion.root\"\n",
    "\n",
    "test_data = mpid_data.MPID_Dataset(test_file, \"particle_mctruth_tree\", \"sparse2d_wire_tree\", train_device)\n",
    "test_loader = DataLoader(dataset=test_data, batch_size= 1 , shuffle=True)"
   ]
  },
  {
   "cell_type": "code",
   "execution_count": 88,
   "metadata": {},
   "outputs": [],
   "source": [
    "entry_start=0\n",
    "entries=1000\n",
    "scores = np.zeros([5,1000])\n",
    "\n",
    "for ENTRY in xrange(entry_start, entry_start + entries):\n",
    "    input_image = test_data[ENTRY][0].view(-1,1,512,512)\n",
    "\n",
    "    input_image[0][0][input_image[0][0] > 500] = 500\n",
    "    input_image[0][0][input_image[0][0] < 10 ] = 0\n",
    "    \n",
    "    score = nn.Sigmoid()(mpid(input_image.cuda()))\n",
    "    \n",
    "    scores[0][ENTRY] = score.cpu().detach().numpy()[0][0]\n",
    "    scores[1][ENTRY] = score.cpu().detach().numpy()[0][1]\n",
    "    scores[2][ENTRY] = score.cpu().detach().numpy()[0][2]\n",
    "    scores[3][ENTRY] = score.cpu().detach().numpy()[0][3]\n",
    "    scores[4][ENTRY] = score.cpu().detach().numpy()[0][4]\n"
   ]
  },
  {
   "cell_type": "code",
   "execution_count": 89,
   "metadata": {},
   "outputs": [
    {
     "data": {
      "image/png": "[encoded data removed]",
      "text/plain": [
       "<Figure size 576x432 with 1 Axes>"
      ]
     },
     "metadata": {},
     "output_type": "display_data"
    }
   ],
   "source": [
    "fig,ax=plt.subplots(1,1,figsize=(8,6))\n",
    "bins=np.linspace(0,1,20)\n",
    "ax.hist(scores[0], bins=bins, label=\"elec\", stacked=1)\n",
    "ax.hist(scores[1], bins=bins, label=\"gamm\", stacked=1)\n",
    "ax.hist(scores[2], bins=bins, label=\"muon\", stacked=1)\n",
    "ax.hist(scores[3], bins=bins, label=\"pion\", stacked=1)\n",
    "ax.hist(scores[4], bins=bins, label=\"prot\", stacked=1)\n",
    "\n",
    "ax.legend()\n",
    "plt.show()"
   ]
  },
  {
   "cell_type": "code",
   "execution_count": null,
   "metadata": {
    "collapsed": true
   },
   "outputs": [],
   "source": []
  }
 ],
 "metadata": {
  "kernelspec": {
   "display_name": "Python 3",
   "language": "python",
   "name": "python3"
  },
  "language_info": {
   "codemirror_mode": {
    "name": "ipython",
    "version": 3
   },
   "file_extension": ".py",
   "mimetype": "text/x-python",
   "name": "python",
   "nbconvert_exporter": "python",
   "pygments_lexer": "ipython3",
   "version": "3.8.3"
  }
 },
 "nbformat": 4,
 "nbformat_minor": 2
}
