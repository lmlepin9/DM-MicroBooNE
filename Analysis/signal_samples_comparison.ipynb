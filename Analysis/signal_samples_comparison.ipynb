{
 "cells": [
  {
   "cell_type": "code",
   "execution_count": 1,
   "id": "f249cb9f",
   "metadata": {},
   "outputs": [],
   "source": [
    "# In this notebook we compare different signal samples\n",
    "\n",
    "import pandas as pd\n",
    "import numpy as np\n",
    "import matplotlib.pyplot as plt"
   ]
  },
  {
   "cell_type": "code",
   "execution_count": 2,
   "id": "8f9ad74b",
   "metadata": {},
   "outputs": [],
   "source": [
    "run=\"run1\"\n",
    "dm_type = 'fermion'\n",
    "target_pot=0\n",
    "signal_pot={}\n",
    "\n",
    "signal_correction = { \"0.01\":0.94903385, \"0.02\":1.03561568, \"0.03\":1.02326517, \"0.04\":1.00641579, \n",
    "                     \"0.05\":1.00650082, \"0.06\":1.01293082, \"0.07\":1.07433777, \n",
    "                     \"0.08\":1.10175345, \"0.09\":1.0415591 , \"0.10\":1.1014797}\n",
    "\n",
    "if(dm_type == \"fermion\"):\n",
    "    signal_pot = { \"0.01\":3.9e19, \"0.02\":3.4e+20, \"0.03\":1.49e+21, \n",
    "                  \"0.04\":5.59e+21, \"0.05\":1.89e+22, \"0.06\":6.02e+22,\n",
    "                  \"0.07\":1.8e+23, \"0.08\":5.6e+23, \n",
    "                  \"0.09\":1.2e+24, \"0.10\":2.9e+24}\n",
    "\n",
    "else: \n",
    "    signal_pot = { \"0.01\":8.8e+20, \"0.02\": 9.05e+21, \"0.03\":4.7e+22, \n",
    "                  \"0.04\":1.8e+23, \"0.05\":7.7e+23, \"0.06\":2.7e+24,\n",
    "                  \"0.07\":7.9e+24, \"0.08\":2.34e+25, \n",
    "                  \"0.09\":3.9e+25, \"0.10\":8.8e+25}\n",
    "\n",
    "    \n",
    "if(run==\"run1\"):\n",
    "    target_pot = 2.38e20\n",
    "    \n",
    "else:\n",
    "    target_pot = 5.18e20 \n",
    "\n",
    "    \n",
    "detvar_uncert = 0.25 \n",
    "xsec_uncert = 0.2 "
   ]
  },
  {
   "cell_type": "code",
   "execution_count": 3,
   "id": "763ab9d6",
   "metadata": {},
   "outputs": [
    {
     "name": "stdout",
     "output_type": "stream",
     "text": [
      "6982\n",
      "4219\n",
      "8672\n"
     ]
    }
   ],
   "source": [
    "# Old vs new\n",
    "\n",
    "mass = \"0.10\"\n",
    "base_dir = \"/home/lmlepin/Desktop/dm_sets/dark_tridents_analysis/run1_signal/\"\n",
    "df_old = pd.read_csv(base_dir + \"dt_overlay_\"+ mass + \"_CNN_scores_8441_steps.csv\")\n",
    "df_pi0 = pd.read_csv(base_dir +\"run1_dt_0.05_pi0_CNN_scores_8441_steps.csv\")\n",
    "#df_pi0_rhc = pd.read_csv(\"/home/lmlepin/Desktop/dm_sets/dark_tridents_analysis/run3_signal/run3_dt_0.1_eta_CNN_scores_8441_steps.csv\")\n",
    "df_eta = pd.read_csv(base_dir +\"run1_dt_0.1_eta_CNN_scores_8441_steps.csv\")\n",
    "\n",
    "df_old = df_old.drop_duplicates()\n",
    "df_old = df_old[df_old['n_tracks'] == 0]\n",
    "df_old = df_old[df_old['n_vertex'] == 1]\n",
    "\n",
    "print(len(df_old))\n",
    "print(len(df_pi0))\n",
    "print(len(df_eta))\n",
    "#print(len(df_pi0_rhc))\n",
    "\n",
    "fraction_old = len(df_old)/len(df_old[df_old['signal_score']>= 0.])\n",
    "fraction_pi0 = len(df_pi0)/len(df_pi0[df_pi0['signal_score']>= 0.])\n",
    "#fraction_pi0_rhc = len(df_pi0_rhc)/len(df_pi0_rhc[df_pi0_rhc['signal_score']>= 0.])\n",
    "fraction_eta = len(df_eta)/len(df_eta[df_eta['signal_score']>= 0.])\n",
    "\n",
    "df_old=df_old[df_old['signal_score'] >=0.]\n",
    "df_pi0=df_pi0[df_pi0['signal_score'] >=0.]\n",
    "#df_pi0_rhc=df_pi0_rhc[df_pi0_rhc['signal_score'] >=0.]\n",
    "df_eta=df_eta[df_eta['signal_score'] >=0.]"
   ]
  },
  {
   "cell_type": "code",
   "execution_count": 4,
   "id": "cccd78cd",
   "metadata": {},
   "outputs": [
    {
     "name": "stdout",
     "output_type": "stream",
     "text": [
      "Number of events after 1e21...\n",
      "\n",
      "\n",
      "Old:  2.3902109490000005\n",
      "Pi0:  298.26874075060806\n",
      "Eta:  2.5235006955111903\n"
     ]
    }
   ],
   "source": [
    "target_pot = 1e21\n",
    "\n",
    "print(\"Number of events after 1e21...\")\n",
    "print(\"\\n\")\n",
    "\n",
    "\n",
    "n_events_old = len(df_old)*signal_correction['0.10']*target_pot/signal_pot['0.10']\n",
    "n_events_pi0 = len(df_pi0)*11.27*fraction_pi0*target_pot/df_pi0['total_pot'][0]\n",
    "n_events_eta = len(df_eta)*7.66*fraction_eta*target_pot/df_eta['total_pot'][0]\n",
    "#n_events_pi0_rhc = len(df_pi0_rhc)*11.32*fraction_pi0_rhc*target_pot/df_pi0_rhc['total_pot'][0]\n",
    "#7.73 for etas in RHC \n",
    "\n",
    "print(\"Old: \", n_events_old)\n",
    "print(\"Pi0: \", n_events_pi0)\n",
    "print(\"Eta: \", n_events_eta)\n",
    "#print(\"Pi0 RHC: \", n_events_pi0_rhc)"
   ]
  },
  {
   "cell_type": "code",
   "execution_count": 5,
   "id": "32bdb909",
   "metadata": {},
   "outputs": [
    {
     "data": {
      "image/png": "[encoded data removed]",
      "text/plain": [
       "<Figure size 640x480 with 1 Axes>"
      ]
     },
     "metadata": {},
     "output_type": "display_data"
    }
   ],
   "source": [
    "plt.hist(df_pi0['signal_score'],bins=30,alpha=0.2,weights=np.ones(len(df_pi0))*11.27*fraction_pi0*target_pot/df_pi0['total_pot'][0],label=\"pi0\")\n",
    "#plt.hist(df_eta['signal_score'],bins=30,alpha=0.2,density=True,legend=\"eta\")\n",
    "plt.hist(df_old['signal_score'],bins=30,alpha=0.2,weights=np.ones(len(df_old))*signal_correction['0.05']*target_pot/signal_pot['0.05'],label=\"old\")\n",
    "plt.legend()\n",
    "plt.show()"
   ]
  },
  {
   "cell_type": "code",
   "execution_count": 6,
   "id": "110089a5",
   "metadata": {},
   "outputs": [
    {
     "data": {
      "text/plain": [
       "'\\nplt.hist(df_pi0[\\'signal_score\\'],bins=30,alpha=0.2,weights=np.ones(len(df_pi0))*11.27*fraction_pi0*target_pot/df_pi0[\\'total_pot\\'][0],label=\"pi0 FHC\")\\n#plt.hist(df_eta[\\'signal_score\\'],bins=30,alpha=0.2,density=True,legend=\"eta\")\\nplt.hist(df_pi0_rhc[\\'signal_score\\'],bins=30,alpha=0.2,weights=np.ones(len(df_pi0_rhc))*11.36*fraction_pi0_rhc*target_pot/df_pi0_rhc[\\'total_pot\\'][0],label=\"pi0 RHC\")\\nplt.legend()\\nplt.show()'"
      ]
     },
     "execution_count": 6,
     "metadata": {},
     "output_type": "execute_result"
    }
   ],
   "source": [
    "'''\n",
    "plt.hist(df_pi0['signal_score'],bins=30,alpha=0.2,weights=np.ones(len(df_pi0))*11.27*fraction_pi0*target_pot/df_pi0['total_pot'][0],label=\"pi0 FHC\")\n",
    "#plt.hist(df_eta['signal_score'],bins=30,alpha=0.2,density=True,legend=\"eta\")\n",
    "plt.hist(df_pi0_rhc['signal_score'],bins=30,alpha=0.2,weights=np.ones(len(df_pi0_rhc))*11.36*fraction_pi0_rhc*target_pot/df_pi0_rhc['total_pot'][0],label=\"pi0 RHC\")\n",
    "plt.legend()\n",
    "plt.show()'''"
   ]
  },
  {
   "cell_type": "code",
   "execution_count": null,
   "id": "a255b21d",
   "metadata": {},
   "outputs": [],
   "source": []
  }
 ],
 "metadata": {
  "kernelspec": {
   "display_name": "Python 3 (ipykernel)",
   "language": "python",
   "name": "python3"
  },
  "language_info": {
   "codemirror_mode": {
    "name": "ipython",
    "version": 3
   },
   "file_extension": ".py",
   "mimetype": "text/x-python",
   "name": "python",
   "nbconvert_exporter": "python",
   "pygments_lexer": "ipython3",
   "version": "3.7.13"
  }
 },
 "nbformat": 4,
 "nbformat_minor": 5
}
