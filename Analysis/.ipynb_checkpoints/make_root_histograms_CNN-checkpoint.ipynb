{
 "cells": [
  {
   "cell_type": "code",
   "execution_count": 1,
   "id": "6f00f75b",
   "metadata": {},
   "outputs": [],
   "source": [
    "import uproot as u\n",
    "import numpy as np\n",
    "import matplotlib.pyplot as plt\n",
    "import pandas as pd"
   ]
  },
  {
   "cell_type": "code",
   "execution_count": 2,
   "id": "e27fd68f",
   "metadata": {},
   "outputs": [],
   "source": [
    "run=\"run3\"\n",
    "dm_type = 'fermion'\n",
    "target_pot=0\n",
    "signal_pot={}\n",
    "\n",
    "signal_correction = { \"0.01\":0.94903385, \"0.02\":1.03561568, \"0.03\":1.02326517, \"0.04\":1.00641579, \n",
    "                     \"0.05\":1.00650082, \"0.06\":1.01293082, \"0.07\":1.07433777, \n",
    "                     \"0.08\":1.10175345, \"0.09\":1.0415591 , \"0.10\":1.1014797}\n",
    "\n",
    "if(dm_type == \"fermion\"):\n",
    "    signal_pot = { \"0.01\":3.9e19, \"0.02\":3.4e+20, \"0.03\":1.49e+21, \n",
    "                  \"0.04\":5.59e+21, \"0.05\":1.89e+22, \"0.06\":6.02e+22,\n",
    "                  \"0.07\":1.8e+23, \"0.08\":5.6e+23, \n",
    "                  \"0.09\":1.2e+24, \"0.10\":2.9e+24}\n",
    "\n",
    "else: \n",
    "    signal_pot = { \"0.01\":8.8e+20, \"0.02\": 9.05e+21, \"0.03\":4.7e+22, \n",
    "                  \"0.04\":1.8e+23, \"0.05\":7.7e+23, \"0.06\":2.7e+24,\n",
    "                  \"0.07\":7.9e+24, \"0.08\":2.34e+25, \n",
    "                  \"0.09\":3.9e+25, \"0.10\":8.8e+25}\n",
    "\n",
    "    \n",
    "if(run==\"run1\"):\n",
    "    target_pot = 2.38e20\n",
    "    \n",
    "else:\n",
    "    target_pot = 5.18e20 \n",
    "\n",
    "    \n",
    "detvar_uncert = 0.25 \n",
    "xsec_uncert = 0.2 "
   ]
  },
  {
   "cell_type": "code",
   "execution_count": 3,
   "id": "3cd91e52",
   "metadata": {},
   "outputs": [
    {
     "name": "stdout",
     "output_type": "stream",
     "text": [
      "Selected pot:  5.18e+20\n"
     ]
    }
   ],
   "source": [
    "print(\"Selected pot: \", target_pot)"
   ]
  },
  {
   "cell_type": "code",
   "execution_count": 4,
   "id": "36c18e2c",
   "metadata": {},
   "outputs": [],
   "source": [
    "def logit_transform(score):\n",
    "    return np.log(score/(1-score))\n",
    "\n",
    "def filter_df(df):\n",
    "    df = df[df['signal_score'] >= 0.5]\n",
    "    return df\n",
    "\n",
    "def GetStatsUncert(df_a, weight_array,my_custom_bins,plot_var):\n",
    "    (counts_df, bins_df) = np.histogram(df_a[plot_var], bins = my_custom_bins, weights=np.square(weight_array))\n",
    "    return counts_df"
   ]
  },
  {
   "cell_type": "code",
   "execution_count": 5,
   "id": "2afbbe3c",
   "metadata": {},
   "outputs": [],
   "source": [
    "def MakeSignalHist():\n",
    "    base_dir = \"/home/lmlepin/Desktop/dm_sets/dark_tridents_analysis/\" + run + \"_samples/\"\n",
    "    signal_file = u.recreate(base_dir + dm_type + \"_signal_hist_\" + run + \"_CNN.root\")\n",
    "    masses = [\"0.01\", \"0.02\", \"0.03\", \"0.04\", \"0.05\", \"0.06\", \"0.07\", \"0.08\", \"0.09\", \"0.10\"]\n",
    "    for mass in masses:\n",
    "        df_signal = pd.read_csv(base_dir + \"dt_overlay_\"+ mass + \"_CNN_scores_8441_steps.csv\")\n",
    "        df_signal = df_signal.drop_duplicates()\n",
    "        df_signal = df_signal[df_signal['n_tracks'] == 0]\n",
    "        df_signal = filter_df(df_signal)\n",
    "        signal_fraction = len(df_signal)/len(df_signal[df_signal['signal_score']>= 0.])\n",
    "        signal_scaling = (signal_correction['0.05']*target_pot/signal_pot[mass])*1/2.\n",
    "        df_signal['signal_score'] = logit_transform(df_signal['signal_score'])\n",
    "        my_custom_bins = [ 0., 1.375, 2.75, 4.125, 5.5, 11.] # Last four bins merged bc of low stats\n",
    "        (counts_signal, bins_signal) = np.histogram(df_signal['signal_score'], bins = my_custom_bins )\n",
    "        stats_uncert = np.sqrt(counts_signal)*signal_scaling\n",
    "        print(\"MC uncertainty: \",stats_uncert)\n",
    "        print(\"CV bins: \", counts_signal*signal_scaling)\n",
    "        print(\"MC fraction error: \", (stats_uncert/(counts_signal*signal_scaling))*100)\n",
    "        print(\"\\n\")\n",
    "        signal_file[\"signal_\"+mass] = (counts_signal*signal_scaling, bins_signal)\n",
    "        signal_file[\"signal_mc_error_\"+mass] = (stats_uncert, bins_signal)\n",
    "        \n",
    "        \n",
    "        \n",
    "        '''\n",
    "        if(mass == \"0.05\"):\n",
    "            collie_file = u.update(base_dir + \"dark_trident_hist_for_collie_\" + run + \"_CNN.root\")\n",
    "            collie_file['theta'] = ((1e-3)*counts_signal/counts_signal,bins_signal)\n",
    "            collie_file['signal'] = (counts_signal*signal_scaling, bins_signal)\n",
    "            collie_file['signal_stat_uncertainty'] = (stats_uncert/(counts_signal*signal_scaling), bins_signal)\n",
    "            collie_file['signal_DetVar_uncertainty'] = ((counts_signal*signal_scaling*detvar_uncert),bins_signal)\n",
    "            collie_file['signal_DetVar_uncertainty_frac'] = ((counts_signal*signal_scaling*detvar_uncert)/(counts_signal*signal_scaling),bins_signal)\n",
    "            collie_file['signal_xsec_uncertainty'] = ((counts_signal*signal_scaling*xsec_uncert),bins_signal)\n",
    "            collie_file['signal_xsec_uncertainty_frac'] = ((counts_signal*signal_scaling*xsec_uncert)/(counts_signal*signal_scaling),bins_signal)\n",
    "        '''"
   ]
  },
  {
   "cell_type": "code",
   "execution_count": 6,
   "id": "d5e4ba58",
   "metadata": {},
   "outputs": [
    {
     "name": "stdout",
     "output_type": "stream",
     "text": [
      "MC uncertainty:  [193.26465189 234.42387787 256.53738503 240.7239373  202.30053297]\n",
      "CV bins:  [5587.98932179 8221.5632366  9845.82329066 8669.40448607 6122.72514205]\n",
      "MC fraction error:  [3.45857232 2.85132974 2.60554529 2.77670672 3.304093  ]\n",
      "\n",
      "\n",
      "MC uncertainty:  [22.18184719 26.28172782 28.82080195 27.58049893 24.55888585]\n",
      "CV bins:  [ 641.74196254  900.89224131 1083.37083998  992.13154065  786.65143795]\n",
      "MC fraction error:  [3.45650565 2.91729983 2.66028961 2.77992361 3.12195271]\n",
      "\n",
      "\n",
      "MC uncertainty:  [4.88310831 5.85513132 6.3948573  6.25695312 5.6149545 ]\n",
      "CV bins:  [136.29034359 195.95017306 233.74056358 223.76809942 180.20417701]\n",
      "MC fraction error:  [3.58287182 2.98807152 2.73587828 2.79617744 3.11588476]\n",
      "\n",
      "\n",
      "MC uncertainty:  [1.28729942 1.56623397 1.76347825 1.68076372 1.5508852 ]\n",
      "CV bins:  [35.53506061 52.60308185 66.68653107 60.57748522 51.57713522]\n",
      "MC fraction error:  [3.62261778 2.97745667 2.64442943 2.77456833 3.0069239 ]\n",
      "\n",
      "\n",
      "MC uncertainty:  [0.383975   0.46956294 0.50977372 0.49826152 0.48077318]\n",
      "CV bins:  [10.68941149 15.98584247 18.84094979 17.99958966 16.75823865]\n",
      "MC fraction error:  [3.59210604 2.93736748 2.7056689  2.76818266 2.86887655]\n",
      "\n",
      "\n",
      "MC uncertainty:  [0.11827333 0.14837183 0.15939954 0.15839646 0.14830863]\n",
      "CV bins:  [3.23039949 5.08376542 5.86754868 5.79393367 5.07943513]\n",
      "MC fraction error:  [3.66126013 2.91854203 2.71662912 2.73383276 2.91978581]\n",
      "\n",
      "\n",
      "MC uncertainty:  [0.03936984 0.04728463 0.0520965  0.05089497 0.04681656]\n",
      "CV bins:  [1.07025146 1.54382687 1.87402624 1.78857992 1.51341377]\n",
      "MC fraction error:  [3.67855946 3.06281946 2.77992361 2.84555197 3.09344112]\n",
      "\n",
      "\n",
      "MC uncertainty:  [0.01260311 0.0151558  0.01647131 0.01548116 0.01478671]\n",
      "CV bins:  [0.34121636 0.49343703 0.5828143  0.51485033 0.46969619]\n",
      "MC fraction error:  [3.69358428 3.07147558 2.82616709 3.0069239  3.14814275]\n",
      "\n",
      "\n",
      "MC uncertainty:  [0.00603589 0.00717209 0.00780541 0.00720164 0.00686618]\n",
      "CV bins:  [0.16770652 0.23678771 0.28045223 0.23874283 0.21701919]\n",
      "MC fraction error:  [3.59907875 3.02891266 2.7831517  3.01648489 3.16385999]\n",
      "\n",
      "\n",
      "MC uncertainty:  [0.00252496 0.00301637 0.00330769 0.00298946 0.00266356]\n",
      "CV bins:  [0.07092395 0.10121719 0.12171233 0.09941937 0.07892424]\n",
      "MC fraction error:  [3.56009427 2.98009978 2.71763213 3.0069239  3.37483654]\n",
      "\n",
      "\n"
     ]
    }
   ],
   "source": [
    "MakeSignalHist()"
   ]
  }
 ],
 "metadata": {
  "kernelspec": {
   "display_name": "Python 3 (ipykernel)",
   "language": "python",
   "name": "python3"
  },
  "language_info": {
   "codemirror_mode": {
    "name": "ipython",
    "version": 3
   },
   "file_extension": ".py",
   "mimetype": "text/x-python",
   "name": "python",
   "nbconvert_exporter": "python",
   "pygments_lexer": "ipython3",
   "version": "3.7.13"
  }
 },
 "nbformat": 4,
 "nbformat_minor": 5
}
