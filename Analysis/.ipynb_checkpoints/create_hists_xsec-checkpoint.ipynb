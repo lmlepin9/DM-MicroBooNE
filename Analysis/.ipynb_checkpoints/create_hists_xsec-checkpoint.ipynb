{
 "cells": [
  {
   "cell_type": "code",
   "execution_count": 1,
   "id": "1bd411b7",
   "metadata": {},
   "outputs": [],
   "source": [
    "import uproot as up\n",
    "import pandas as pd\n",
    "import matplotlib.pyplot as plt\n",
    "import numpy as np"
   ]
  },
  {
   "cell_type": "code",
   "execution_count": 2,
   "id": "d2a2efed",
   "metadata": {},
   "outputs": [],
   "source": [
    "run = \"run1\"\n",
    "ratio = \"2.0\"\n",
    "base_dir = \"/home/lmlepin/Desktop/dm_sets/dark_tridents_analysis/{}_signal/\".format(run)\n",
    "\n",
    "if(ratio==\"0.6\"):\n",
    "    mass_pi0 = [\"0.01\", \"0.02\", \"0.03\", \"0.04\", \n",
    "                \"0.05\", \"0.06\", \"0.07\", \"0.08\", \"0.09\"]\n",
    "    mass_eta = [\"0.02\", \"0.03\", \"0.04\", \"0.05\", \n",
    "                \"0.06\", \"0.07\", \"0.08\", \"0.09\", \n",
    "                \"0.1\", \"0.2\", \"0.3\", \"0.4\"]\n",
    "\n",
    "else: \n",
    "    mass_pi0 = [\"0.010\", \"0.020\", \"0.030\"]\n",
    "    mass_eta = [\"0.010\", \"0.020\", \"0.030\", \n",
    "                \"0.040\", \"0.050\", \"0.060\", \n",
    "                \"0.065\", \"0.070\", \"0.075\", \n",
    "                \"0.080\", \"0.085\", \"0.090\", \n",
    "                \"0.095\", \"0.100\", \"0.105\", \n",
    "                \"0.110\", \"0.115\", \"0.120\", \"0.125\"]"
   ]
  },
  {
   "cell_type": "code",
   "execution_count": 3,
   "id": "bc61892d",
   "metadata": {},
   "outputs": [
    {
     "name": "stdout",
     "output_type": "stream",
     "text": [
      "Number of entries:  7014\n",
      "Number of selected entries:  5666\n",
      "Number of entries that will be stored  3000\n",
      "Number of entries:  4313\n",
      "Number of selected entries:  3561\n",
      "Number of entries that will be stored  3000\n",
      "Number of entries:  4154\n",
      "Number of selected entries:  3431\n",
      "Number of entries that will be stored  3000\n",
      "Number of entries:  3603\n",
      "Number of selected entries:  1685\n",
      "Number of entries that will be stored  1685\n",
      "Number of entries:  5159\n",
      "Number of selected entries:  4194\n",
      "Number of entries that will be stored  3000\n",
      "Number of entries:  4592\n",
      "Number of selected entries:  3427\n",
      "Number of entries that will be stored  3000\n",
      "Number of entries:  4399\n",
      "Number of selected entries:  3488\n",
      "Number of entries that will be stored  3000\n",
      "Number of entries:  3297\n",
      "Number of selected entries:  2621\n",
      "Number of entries that will be stored  2621\n",
      "Number of entries:  5509\n",
      "Number of selected entries:  4422\n",
      "Number of entries that will be stored  3000\n",
      "Number of entries:  3176\n",
      "Number of selected entries:  2450\n",
      "Number of entries that will be stored  2450\n",
      "Number of entries:  2810\n",
      "Number of selected entries:  2189\n",
      "Number of entries that will be stored  2189\n",
      "Number of entries:  3659\n",
      "Number of selected entries:  2923\n",
      "Number of entries that will be stored  2923\n",
      "Number of entries:  4020\n",
      "Number of selected entries:  3222\n",
      "Number of entries that will be stored  3000\n",
      "Number of entries:  4245\n",
      "Number of selected entries:  3345\n",
      "Number of entries that will be stored  3000\n",
      "Number of entries:  3853\n",
      "Number of selected entries:  3008\n",
      "Number of entries that will be stored  3000\n",
      "Number of entries:  4792\n",
      "Number of selected entries:  3652\n",
      "Number of entries that will be stored  3000\n",
      "Number of entries:  4185\n",
      "Number of selected entries:  3213\n",
      "Number of entries that will be stored  3000\n",
      "Number of entries:  3992\n",
      "Number of selected entries:  3107\n",
      "Number of entries that will be stored  3000\n",
      "Number of entries:  3885\n",
      "Number of selected entries:  2994\n",
      "Number of entries that will be stored  2994\n"
     ]
    }
   ],
   "source": [
    "for mass in mass_eta:\n",
    "    decay = \"eta\"\n",
    "    input_file = \"{}_dt_ratio_{}_{}_{}_CNN_scores_8441_steps.csv\".format(run,ratio,mass,decay)\n",
    "    df = pd.read_csv(base_dir + input_file)\n",
    "    print(\"Number of entries: \",len(df))\n",
    "    df = df[df['signal_score'] >= 0.5 ]\n",
    "    print(\"Number of selected entries: \", len(df))\n",
    "    df = df.iloc[:3000]\n",
    "    print(\"Number of entries that will be stored \", len(df))\n",
    "    run_col = np.array(df['run_number'].to_list())\n",
    "    subrun = np.array(df['subrun_number'].to_list())\n",
    "    event = np.array(df['event_number'].to_list())\n",
    "    qsqr = np.array(df['mctruth_qsqr'].to_list())\n",
    "    score = np.array(df['signal_score'].to_list())\n",
    "    output_file = \"{}_dt_ratio_{}_ma_{}_{}_xsec.root\".format(run,ratio,mass,decay)\n",
    "    file = up.recreate(base_dir+output_file)\n",
    "    file[\"dt_signal\"] = {\"run_number\":run_col, \"subrun_number\":subrun, \"event_number\":event, \"qsqr\":qsqr, \"signal_score\":score}"
   ]
  },
  {
   "cell_type": "code",
   "execution_count": 4,
   "id": "4fba3ba2",
   "metadata": {},
   "outputs": [
    {
     "name": "stdout",
     "output_type": "stream",
     "text": [
      "Number of entries:  4947\n",
      "Number of selected entries:  3774\n",
      "Number of entries that will be stored  3000\n",
      "Number of entries:  5821\n",
      "Number of selected entries:  4503\n",
      "Number of entries that will be stored  3000\n",
      "Number of entries:  3348\n",
      "Number of selected entries:  2650\n",
      "Number of entries that will be stored  2650\n"
     ]
    }
   ],
   "source": [
    "for mass in mass_pi0:\n",
    "    decay = \"pi0\"\n",
    "    input_file = \"{}_dt_ratio_{}_{}_{}_CNN_scores_8441_steps.csv\".format(run,ratio,mass,decay)\n",
    "    df = pd.read_csv(base_dir + input_file)\n",
    "    print(\"Number of entries: \",len(df))\n",
    "    df = df[df['signal_score'] >= 0.5 ]\n",
    "    print(\"Number of selected entries: \", len(df))\n",
    "    df = df.iloc[:3000]\n",
    "    print(\"Number of entries that will be stored \", len(df))\n",
    "    run_col = np.array(df['run_number'].to_list())\n",
    "    subrun = np.array(df['subrun_number'].to_list())\n",
    "    event = np.array(df['event_number'].to_list())\n",
    "    qsqr = np.array(df['mctruth_qsqr'].to_list())\n",
    "    score = np.array(df['signal_score'].to_list())\n",
    "    output_file = \"{}_dt_ratio_{}_ma_{}_{}_xsec.root\".format(run,ratio,mass,decay)\n",
    "    file = up.recreate(base_dir+output_file)\n",
    "    file[\"dt_signal\"] = {\"run_number\":run_col, \"subrun_number\":subrun, \"event_number\":event, \"qsqr\":qsqr, \"signal_score\":score}"
   ]
  }
 ],
 "metadata": {
  "kernelspec": {
   "display_name": "Python 3 (ipykernel)",
   "language": "python",
   "name": "python3"
  },
  "language_info": {
   "codemirror_mode": {
    "name": "ipython",
    "version": 3
   },
   "file_extension": ".py",
   "mimetype": "text/x-python",
   "name": "python",
   "nbconvert_exporter": "python",
   "pygments_lexer": "ipython3",
   "version": "3.7.13"
  }
 },
 "nbformat": 4,
 "nbformat_minor": 5
}
