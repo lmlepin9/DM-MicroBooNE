{
 "cells": [
  {
   "cell_type": "code",
   "execution_count": 1,
   "id": "1bd411b7",
   "metadata": {},
   "outputs": [],
   "source": [
    "import uproot as up\n",
    "import pandas as pd\n",
    "import matplotlib.pyplot as plt\n",
    "import numpy as np"
   ]
  },
  {
   "cell_type": "code",
   "execution_count": 2,
   "id": "d2a2efed",
   "metadata": {},
   "outputs": [],
   "source": [
    "run = \"run3\"\n",
    "decay = \"pi0\"\n",
    "base_dir = \"/home/lmlepin/Desktop/dm_sets/dark_tridents_analysis/{}_signal/\".format(run)\n",
    "mass_pi0 = [\"0.01\", \"0.02\", \"0.03\", \"0.04\", \"0.05\", \"0.06\", \"0.07\", \"0.08\", \"0.09\"]\n",
    "mass_eta = [\"0.02\", \"0.03\", \"0.04\", \"0.05\", \"0.06\", \"0.07\", \"0.08\", \"0.09\", \"0.1\", \"0.2\", \"0.3\", \"0.4\"]"
   ]
  },
  {
   "cell_type": "code",
   "execution_count": 3,
   "id": "4fba3ba2",
   "metadata": {},
   "outputs": [
    {
     "name": "stdout",
     "output_type": "stream",
     "text": [
      "Number of entries:  11277\n",
      "Number of selected entries:  7492\n",
      "Number of entries that will be stored  3000\n",
      "Number of entries:  6619\n",
      "Number of selected entries:  5534\n",
      "Number of entries that will be stored  3000\n",
      "Number of entries:  6325\n",
      "Number of selected entries:  5223\n",
      "Number of entries that will be stored  3000\n",
      "Number of entries:  5876\n",
      "Number of selected entries:  4853\n",
      "Number of entries that will be stored  3000\n",
      "Number of entries:  12086\n",
      "Number of selected entries:  10031\n",
      "Number of entries that will be stored  3000\n",
      "Number of entries:  6409\n",
      "Number of selected entries:  5117\n",
      "Number of entries that will be stored  3000\n",
      "Number of entries:  5747\n",
      "Number of selected entries:  4655\n",
      "Number of entries that will be stored  3000\n",
      "Number of entries:  5318\n",
      "Number of selected entries:  4458\n",
      "Number of entries that will be stored  3000\n",
      "Number of entries:  5610\n",
      "Number of selected entries:  4577\n",
      "Number of entries that will be stored  3000\n"
     ]
    }
   ],
   "source": [
    "for mass in mass_pi0:\n",
    "    input_file = \"{}_dt_ratio_0.6_{}_{}_CNN_scores_8441_steps.csv\".format(run,mass,decay)\n",
    "    df = pd.read_csv(base_dir + input_file)\n",
    "    print(\"Number of entries: \",len(df))\n",
    "    df = df[df['signal_score'] >= 0.5 ]\n",
    "    print(\"Number of selected entries: \", len(df))\n",
    "    df = df.iloc[:3000]\n",
    "    print(\"Number of entries that will be stored \", len(df))\n",
    "    run_col = np.array(df['run_number'].to_list())\n",
    "    subrun = np.array(df['subrun_number'].to_list())\n",
    "    event = np.array(df['event_number'].to_list())\n",
    "    qsqr = np.array(df['mctruth_qsqr'].to_list())\n",
    "    score = np.array(df['signal_score'].to_list())\n",
    "    output_file = \"{}_dt_ratio_0.6_ma_{}_{}_xsec.root\".format(run,mass,decay)\n",
    "    file = up.recreate(base_dir+output_file)\n",
    "    file[\"dt_signal\"] = {\"run_number\":run_col, \"subrun_number\":subrun, \"event_number\":event, \"qsqr\":qsqr, \"signal_score\":score}"
   ]
  }
 ],
 "metadata": {
  "kernelspec": {
   "display_name": "Python 3 (ipykernel)",
   "language": "python",
   "name": "python3"
  },
  "language_info": {
   "codemirror_mode": {
    "name": "ipython",
    "version": 3
   },
   "file_extension": ".py",
   "mimetype": "text/x-python",
   "name": "python",
   "nbconvert_exporter": "python",
   "pygments_lexer": "ipython3",
   "version": "3.7.13"
  }
 },
 "nbformat": 4,
 "nbformat_minor": 5
}
