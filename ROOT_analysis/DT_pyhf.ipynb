{
 "cells": [
  {
   "cell_type": "code",
   "execution_count": 1,
   "id": "1cf128f4",
   "metadata": {},
   "outputs": [],
   "source": [
    "import numpy as np\n",
    "import pyhf\n",
    "import matplotlib.pyplot as plt \n",
    "import uproot\n",
    "import pandas as pd \n",
    "from pyhf.contrib.viz import brazil"
   ]
  },
  {
   "cell_type": "code",
   "execution_count": 2,
   "id": "5037f112",
   "metadata": {},
   "outputs": [],
   "source": [
    "path_to_hists = \"~/Desktop/dm_sets/dark_tridents_analysis/old_samples/\" \n",
    "dp_masses = [0.01, 0.02, 0.03, 0.04, 0.05, 0.06, 0.07, 0.08, 0.09, 0.1]\n",
    "uncertainty = 0.5\n",
    "nominal_eps = 1e-3 \n",
    "obs_eps = []\n",
    "exp_eps = []\n",
    "scaling_list = [] \n",
    "scaling = 2."
   ]
  },
  {
   "cell_type": "code",
   "execution_count": 3,
   "id": "5a37066b",
   "metadata": {
    "scrolled": false
   },
   "outputs": [
    {
     "name": "stdout",
     "output_type": "stream",
     "text": [
      "Opening file:  dt_hists_mass_0.01_E_total.root\n",
      "Contents on this file:  {'signal;1': 'TH1D', 'background;1': 'TH1D'}\n",
      "Signal events: 31472.11\n",
      "Background events: 13.08\n"
     ]
    },
    {
     "name": "stderr",
     "output_type": "stream",
     "text": [
      "/home/lmlepin/anaconda3/envs/dark_trident/lib/python3.7/site-packages/pyhf/infer/calculators.py:369: RuntimeWarning: invalid value encountered in double_scalars\n",
      "  teststat = (qmu - qmu_A) / (2 * self.sqrtqmuA_v)\n"
     ]
    },
    {
     "name": "stdout",
     "output_type": "stream",
     "text": [
      "Upper limit (obs): μ = 0.3227\n",
      "Upper limit (exp): μ = 0.3227\n",
      "Upper limit (obs): epsilon2 = 1.6377951739464713e-08\n",
      "Upper limit (exp): epsilon2 = 1.6377951739464713e-08\n",
      "\n",
      "\n",
      "Opening file:  dt_hists_mass_0.02_E_total.root\n",
      "Contents on this file:  {'signal;1': 'TH1D', 'background;1': 'TH1D'}\n",
      "Signal events: 3255.01\n",
      "Background events: 13.08\n",
      "Upper limit (obs): μ = 0.3272\n",
      "Upper limit (exp): μ = 0.3272\n",
      "Upper limit (obs): epsilon2 = 5.128088632222288e-08\n",
      "Upper limit (exp): epsilon2 = 5.128088632222288e-08\n",
      "\n",
      "\n",
      "Opening file:  dt_hists_mass_0.03_E_total.root\n",
      "Contents on this file:  {'signal;1': 'TH1D', 'background;1': 'TH1D'}\n",
      "Signal events: 751.23\n",
      "Background events: 13.08\n",
      "Upper limit (obs): μ = 0.3372\n",
      "Upper limit (exp): μ = 0.3372\n",
      "Upper limit (obs): epsilon2 = 1.08359917024192e-07\n",
      "Upper limit (exp): epsilon2 = 1.08359917024192e-07\n",
      "\n",
      "\n",
      "Opening file:  dt_hists_mass_0.04_E_total.root\n",
      "Contents on this file:  {'signal;1': 'TH1D', 'background;1': 'TH1D'}\n",
      "Signal events: 211.11\n",
      "Background events: 13.08\n",
      "Upper limit (obs): μ = 0.3459\n",
      "Upper limit (exp): μ = 0.3459\n",
      "Upper limit (obs): epsilon2 = 2.0704502078700966e-07\n",
      "Upper limit (exp): epsilon2 = 2.0704502078700966e-07\n",
      "\n",
      "\n",
      "Opening file:  dt_hists_mass_0.05_E_total.root\n",
      "Contents on this file:  {'signal;1': 'TH1D', 'background;1': 'TH1D'}\n",
      "Signal events: 61.71\n",
      "Background events: 13.08\n",
      "Upper limit (obs): μ = 0.3557\n",
      "Upper limit (exp): μ = 0.3557\n",
      "Upper limit (obs): epsilon2 = 3.882991984072876e-07\n",
      "Upper limit (exp): epsilon2 = 3.882991984072876e-07\n",
      "\n",
      "\n",
      "Opening file:  dt_hists_mass_0.06_E_total.root\n",
      "Contents on this file:  {'signal;1': 'TH1D', 'background;1': 'TH1D'}\n",
      "Signal events: 18.96\n",
      "Background events: 13.08\n",
      "Upper limit (obs): μ = 0.3526\n",
      "Upper limit (exp): μ = 0.3526\n",
      "Upper limit (obs): epsilon2 = 6.974457090100885e-07\n",
      "Upper limit (exp): epsilon2 = 6.974457090100885e-07\n",
      "\n",
      "\n",
      "Opening file:  dt_hists_mass_0.07_E_total.root\n",
      "Contents on this file:  {'signal;1': 'TH1D', 'background;1': 'TH1D'}\n",
      "Signal events: 5.57\n",
      "Background events: 13.08\n",
      "Upper limit (obs): μ = 0.3591\n",
      "Upper limit (exp): μ = 0.3591\n",
      "Upper limit (obs): epsilon2 = 1.2991514064241027e-06\n",
      "Upper limit (exp): epsilon2 = 1.2991514064241027e-06\n",
      "\n",
      "\n",
      "Opening file:  dt_hists_mass_0.08_E_total.root\n",
      "Contents on this file:  {'signal;1': 'TH1D', 'background;1': 'TH1D'}\n",
      "Signal events: 1.77\n",
      "Background events: 13.08\n",
      "Upper limit (obs): μ = 0.3628\n",
      "Upper limit (exp): μ = 0.3628\n",
      "Upper limit (obs): epsilon2 = 2.3127236655700825e-06\n",
      "Upper limit (exp): epsilon2 = 2.3127236655700825e-06\n",
      "\n",
      "\n",
      "Opening file:  dt_hists_mass_0.09_E_total.root\n",
      "Contents on this file:  {'signal;1': 'TH1D', 'background;1': 'TH1D'}\n",
      "Signal events: 0.73\n",
      "Background events: 13.08\n",
      "Upper limit (obs): μ = 0.3682\n",
      "Upper limit (exp): μ = 0.3682\n",
      "Upper limit (obs): epsilon2 = 3.63718176390106e-06\n",
      "Upper limit (exp): epsilon2 = 3.63718176390106e-06\n",
      "\n",
      "\n",
      "Opening file:  dt_hists_mass_0.1_E_total.root\n",
      "Contents on this file:  {'signal;1': 'TH1D', 'background;1': 'TH1D'}\n",
      "Signal events: 0.35\n",
      "Background events: 13.08\n",
      "Upper limit (obs): μ = 0.3686\n",
      "Upper limit (exp): μ = 0.3686\n",
      "Upper limit (obs): epsilon2 = 5.2500411751600415e-06\n",
      "Upper limit (exp): epsilon2 = 5.2500411751600415e-06\n",
      "\n",
      "\n"
     ]
    }
   ],
   "source": [
    "for mass in dp_masses:\n",
    "    file_name=\"dt_hists_mass_\"+str(mass)+\"_E_total.root\"\n",
    "    print(\"Opening file: \", file_name)\n",
    "    file = uproot.open(path_to_hists+file_name)\n",
    "    print(\"Contents on this file: \", file.classnames())\n",
    "    print(\"Signal events: {nevts:.2f}\".format( nevts= np.sum(file[\"signal\"].values())))\n",
    "    print(\"Background events: {nevts:.2f}\".format( nevts= np.sum(file[\"background\"].values())))\n",
    "    \n",
    "    total_sig = np.sum(file[\"signal\"].values())\n",
    "    total_bkg = np.sum(file[\"background\"].values())\n",
    "    factor = scaling*(total_bkg/total_sig)\n",
    "    total_sig_adjusted = np.sum(file[\"signal\"].values()*factor)\n",
    "    scaling_list.append(factor)\n",
    "    \n",
    "    # scaling signal, to have a reasonable signal strength between 0 and 10\n",
    "    n_sig = (file[\"signal\"].values()*factor).tolist()\n",
    "    n_back = file[\"background\"].values().tolist()\n",
    "    back_sigma = (file[\"background\"].values()*uncertainty).tolist()\n",
    "    \n",
    "    model=pyhf.simplemodels.uncorrelated_background(\n",
    "        signal=n_sig, bkg=n_back,\n",
    "        bkg_uncertainty=back_sigma)\n",
    "    \n",
    "    obs = n_back + model.config.auxdata\n",
    "    \n",
    "    poi_values = np.linspace(0., 10., 100)\n",
    "    obs_limit, exp_limits, (scan, results) = pyhf.infer.intervals.upperlimit(\n",
    "        obs, model, poi_values, level=0.05, return_results=True)\n",
    "    print(f\"Upper limit (obs): μ = {obs_limit:.4f}\")\n",
    "    print(f\"Upper limit (exp): μ = {exp_limits[2]:.4f}\")\n",
    "    obs_epsilon = (nominal_eps**2)*np.sqrt(obs_limit*factor)\n",
    "    exp_epsilon = (nominal_eps**2)*np.sqrt(exp_limits[2]*factor)\n",
    "    exp_eps.append(exp_epsilon)\n",
    "    print(f\"Upper limit (obs): epsilon2 = {obs_epsilon}\")\n",
    "    print(f\"Upper limit (exp): epsilon2 = {exp_epsilon}\")\n",
    "    print(\"\\n\")\n",
    "    "
   ]
  },
  {
   "cell_type": "code",
   "execution_count": 4,
   "id": "bd030e8d",
   "metadata": {
    "scrolled": false
   },
   "outputs": [
    {
     "data": {
      "image/png": "[encoded data removed]",
      "text/plain": [
       "<Figure size 640x480 with 1 Axes>"
      ]
     },
     "metadata": {},
     "output_type": "display_data"
    }
   ],
   "source": [
    "import pandas as pd\n",
    "df = pd.read_csv(path_to_hists+\"old_a01.csv\")\n",
    "plt.plot(dp_masses,exp_eps,label='Pyhf')\n",
    "plt.plot(dp_masses,df['epsilon_a01'],label='counting exp')\n",
    "plt.xlabel('Dark photon mass [GeV]')\n",
    "plt.ylabel(r'$\\varepsilon^{2}$')\n",
    "plt.legend()\n",
    "plt.yscale('log')\n",
    "plt.xscale('log')"
   ]
  }
 ],
 "metadata": {
  "kernelspec": {
   "display_name": "Python 3 (ipykernel)",
   "language": "python",
   "name": "python3"
  },
  "language_info": {
   "codemirror_mode": {
    "name": "ipython",
    "version": 3
   },
   "file_extension": ".py",
   "mimetype": "text/x-python",
   "name": "python",
   "nbconvert_exporter": "python",
   "pygments_lexer": "ipython3",
   "version": "3.7.13"
  }
 },
 "nbformat": 4,
 "nbformat_minor": 5
}
