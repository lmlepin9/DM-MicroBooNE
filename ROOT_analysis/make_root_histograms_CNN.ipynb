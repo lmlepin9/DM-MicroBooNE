{
 "cells": [
  {
   "cell_type": "code",
   "execution_count": 1,
   "id": "6f00f75b",
   "metadata": {},
   "outputs": [],
   "source": [
    "import uproot as u\n",
    "import numpy as np\n",
    "import matplotlib.pyplot as plt\n",
    "import pandas as pd"
   ]
  },
  {
   "cell_type": "code",
   "execution_count": 2,
   "id": "e27fd68f",
   "metadata": {},
   "outputs": [],
   "source": [
    "run=\"run1\"\n",
    "dm_type = 'fermion'\n",
    "target_pot=2e20\n",
    "signal_pot={}\n",
    "\n",
    "signal_correction = { \"0.01\":0.94903385, \"0.02\":1.03561568, \"0.03\":1.02326517, \"0.04\":1.00641579, \n",
    "                     \"0.05\":1.00650082, \"0.06\":1.01293082, \"0.07\":1.07433777, \n",
    "                     \"0.08\":1.10175345, \"0.09\":1.0415591 , \"0.10\":1.1014797}\n",
    "\n",
    "if(dm_type == \"fermion\"):\n",
    "    signal_pot = { \"0.01\":4.49230189e+20, \"0.02\":3.24986846e+21, \"0.03\":1.44413783e+22, \n",
    "                  \"0.04\":5.51306150e+22, \"0.05\":1.74805153e+23, \"0.06\":5.79056950e+23,\n",
    "                  \"0.07\":1.48783150e+24, \"0.08\":4.41322940e+24, \n",
    "                  \"0.09\":9.92424735e+24, \"0.10\":2.27414738e+25}\n",
    "\n",
    "else: \n",
    "    signal_pot = { \"0.01\":8.70545727e+21, \"0.02\": 9.48797710e+22, \"0.03\":4.86277630e+23, \n",
    "                  \"0.04\":1.94231827e+24, \"0.05\":8.19564834e+24, \"0.06\":2.06542023e+25,\n",
    "                  \"0.07\":5.83217654e+25, \"0.08\":1.54999742e+26, \n",
    "                  \"0.09\":2.94329651e+26, \"0.10\":5.04481005e+26}\n",
    "\n"
   ]
  },
  {
   "cell_type": "code",
   "execution_count": 3,
   "id": "36c18e2c",
   "metadata": {},
   "outputs": [],
   "source": [
    "def logit_transform(score):\n",
    "    return np.log(score/(1-score))\n",
    "\n",
    "def filter_df(df):\n",
    "    df = df[df['signal_score'] >= 0.5]\n",
    "    return df "
   ]
  },
  {
   "cell_type": "code",
   "execution_count": 4,
   "id": "2afbbe3c",
   "metadata": {},
   "outputs": [],
   "source": [
    "def MakeSignalHist():\n",
    "    base_dir = \"/home/lmlepin/Desktop/dm_sets/dark_tridents_analysis/\" + run + \"_samples/\"\n",
    "    signal_file = u.recreate(base_dir + dm_type + \"_signal_hist_\" + run + \"_CNN.root\")\n",
    "    masses = [\"0.01\", \"0.02\", \"0.03\", \"0.04\", \"0.05\", \"0.06\", \"0.07\", \"0.08\", \"0.09\", \"0.10\"]\n",
    "    for mass in masses:\n",
    "        signal_scaling = signal_correction[mass]*target_pot/signal_pot[mass]\n",
    "        df_signal = pd.read_csv(base_dir + \"dt_overlay_\"+ mass + \"_CNN_scores_8441_steps.csv\")\n",
    "        df_signal = filter_df(df_signal)\n",
    "        df_signal['signal_score'] = logit_transform(df_signal['signal_score'])\n",
    "        my_custom_bins = [ 0., 1.375, 2.75, 4.125, 5.5, 11.] # Last four bins merged bc of low stats\n",
    "        (counts_signal, bins_signal) = np.histogram(df_signal['signal_score'], bins = my_custom_bins )\n",
    "        signal_file[\"signal_\"+mass] = (counts_signal*signal_scaling, bins_signal)"
   ]
  },
  {
   "cell_type": "code",
   "execution_count": 5,
   "id": "d5e4ba58",
   "metadata": {},
   "outputs": [],
   "source": [
    "MakeSignalHist()"
   ]
  }
 ],
 "metadata": {
  "kernelspec": {
   "display_name": "Python 3 (ipykernel)",
   "language": "python",
   "name": "python3"
  },
  "language_info": {
   "codemirror_mode": {
    "name": "ipython",
    "version": 3
   },
   "file_extension": ".py",
   "mimetype": "text/x-python",
   "name": "python",
   "nbconvert_exporter": "python",
   "pygments_lexer": "ipython3",
   "version": "3.7.13"
  }
 },
 "nbformat": 4,
 "nbformat_minor": 5
}
