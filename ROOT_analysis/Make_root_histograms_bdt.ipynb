{
 "cells": [
  {
   "cell_type": "code",
   "execution_count": 1,
   "id": "8b8fe8f6",
   "metadata": {},
   "outputs": [],
   "source": [
    "import uproot as u\n",
    "import numpy as np\n",
    "import matplotlib.pyplot as plt\n",
    "import pandas as pd"
   ]
  },
  {
   "cell_type": "code",
   "execution_count": 2,
   "id": "51787b5d",
   "metadata": {},
   "outputs": [],
   "source": [
    "run=\"run1\"\n",
    "dm_type = 'scalar'\n",
    "target_pot=2e20\n",
    "signal_pot={}\n",
    "\n",
    "if(dm_type == \"fermion\"):\n",
    "    signal_pot = { \"0.01\":4.49230189e+20, \"0.02\":3.24986846e+21, \"0.03\":1.44413783e+22, \n",
    "                  \"0.04\":5.51306150e+22, \"0.05\":1.74805153e+23, \"0.06\":5.79056950e+23,\n",
    "                  \"0.07\":1.48783150e+24, \"0.08\":4.41322940e+24, \n",
    "                  \"0.09\":9.92424735e+24, \"0.10\":2.27414738e+25}\n",
    "\n",
    "else: \n",
    "    signal_pot = { \"0.01\":8.70545727e+21, \"0.02\": 9.48797710e+22, \"0.03\":4.86277630e+23, \n",
    "                  \"0.04\":1.94231827e+24, \"0.05\":8.19564834e+24, \"0.06\":2.06542023e+25,\n",
    "                  \"0.07\":5.83217654e+25, \"0.08\":1.54999742e+26, \n",
    "                  \"0.09\":2.94329651e+26, \"0.10\":5.04481005e+26}\n",
    "\n",
    "\n",
    "\n",
    "if(run==\"run1\"):\n",
    "    binning = [0., 0.55053561, 1.10107123, 1.65160684, 2.20214245, 2.75267806, 3.30321368, 4.95482051]\n",
    "else:\n",
    "    binning = [0.0, 0.5677753041587242, 1.1355506083174485, 1.7033259124761728, 2.271101216634897, 2.838876520793621, 3.4066518249523456, 5.109977737428518]\n"
   ]
  },
  {
   "cell_type": "code",
   "execution_count": 3,
   "id": "fea4521b",
   "metadata": {},
   "outputs": [],
   "source": [
    "def logit_transform(score):\n",
    "    return np.log(score/(1-score))\n",
    "\n",
    "def filter_df(df):\n",
    "    df = df[df['bdt_score'] >= 0.5]\n",
    "    return df "
   ]
  },
  {
   "cell_type": "code",
   "execution_count": 4,
   "id": "f65bb6b6",
   "metadata": {},
   "outputs": [],
   "source": [
    "def MakeSignalHist():\n",
    "    base_dir = \"/home/lmlepin/Desktop/dm_sets/dark_tridents_analysis/\" + run + \"_samples/\"\n",
    "    signal_file = u.recreate(base_dir + dm_type + \"_signal_hist_\" + run + \"_bdt.root\")\n",
    "    masses = [\"0.01\", \"0.02\", \"0.03\", \"0.04\", \"0.05\", \"0.06\", \"0.07\", \"0.08\", \"0.09\", \"0.10\"]\n",
    "    for mass in masses:\n",
    "        signal_scaling = target_pot/signal_pot[mass]\n",
    "        df_signal = pd.read_csv(base_dir + \"df_trident_\" + run + \"_\" + mass + \"_score_test.csv\")\n",
    "        df_signal = filter_df(df_signal)\n",
    "        df_signal['bdt_score'] = logit_transform(df_signal['bdt_score'])\n",
    "        (counts_signal, bins_signal) = np.histogram(df_signal['bdt_score'], bins = binning)\n",
    "        signal_file[\"signal_\"+mass] = (counts_signal*signal_scaling, bins_signal)"
   ]
  },
  {
   "cell_type": "code",
   "execution_count": 5,
   "id": "6c107750",
   "metadata": {},
   "outputs": [],
   "source": [
    "MakeSignalHist()"
   ]
  }
 ],
 "metadata": {
  "kernelspec": {
   "display_name": "Python 3 (ipykernel)",
   "language": "python",
   "name": "python3"
  },
  "language_info": {
   "codemirror_mode": {
    "name": "ipython",
    "version": 3
   },
   "file_extension": ".py",
   "mimetype": "text/x-python",
   "name": "python",
   "nbconvert_exporter": "python",
   "pygments_lexer": "ipython3",
   "version": "3.7.13"
  }
 },
 "nbformat": 4,
 "nbformat_minor": 5
}
